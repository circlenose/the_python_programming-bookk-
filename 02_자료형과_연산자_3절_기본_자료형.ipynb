{
  "nbformat": 4,
  "nbformat_minor": 0,
  "metadata": {
    "colab": {
      "name": "02. 자료형과 연산자_3절. 기본 자료형.ipynb",
      "provenance": [],
      "collapsed_sections": [],
      "authorship_tag": "ABX9TyOzM/B0gAj8mQs2KJ7sIPMI",
      "include_colab_link": true
    },
    "kernelspec": {
      "name": "python3",
      "display_name": "Python 3"
    },
    "language_info": {
      "name": "python"
    }
  },
  "cells": [
    {
      "cell_type": "markdown",
      "metadata": {
        "id": "view-in-github",
        "colab_type": "text"
      },
      "source": [
        "<a href=\"https://colab.research.google.com/github/circlenose/the_python_programming-bookk-/blob/main/02_%EC%9E%90%EB%A3%8C%ED%98%95%EA%B3%BC_%EC%97%B0%EC%82%B0%EC%9E%90_3%EC%A0%88_%EA%B8%B0%EB%B3%B8_%EC%9E%90%EB%A3%8C%ED%98%95.ipynb\" target=\"_parent\"><img src=\"https://colab.research.google.com/assets/colab-badge.svg\" alt=\"Open In Colab\"/></a>"
      ]
    },
    {
      "cell_type": "markdown",
      "source": [
        "## 3절. 기본 자료형"
      ],
      "metadata": {
        "id": "T-zVAMIehaqD"
      }
    },
    {
      "cell_type": "markdown",
      "source": [
        "- 자료형data type : 프로그래밍 언어에서 정수int, 실수float, 논리bool 등 여러 유형의 자료 중에서 어떤 유형의 값을 가질 수 있는지에 대해 알려주는 속성\n",
        "- 자료형으로 인해 변수에 저장할 수 있는 값의 범위(또는 크기)와 값을 저장하는 방식, 해당 자료형을 이용해 수행할 수 있는 명령들이이 달라짐\n",
        "- 파이썬은 자료형 개념을 포함하고 있으나, 변수 선언 시 자료형을 지정하는 키워드가 존재하지 않음\n",
        "- 파이썬 기본 자료형 : 숫자형 / 문자형 / 논리형"
      ],
      "metadata": {
        "id": "W_996_yYhl0l"
      }
    },
    {
      "cell_type": "markdown",
      "source": [
        "### 3.1 숫자형"
      ],
      "metadata": {
        "id": "Xf2xRi4FhglV"
      }
    },
    {
      "cell_type": "markdown",
      "source": [
        "- 파이썬 숫자형 :\n",
        "    - 정수int : 소수점이 없는 숫자, 3.x 버전에서는 2.x 버전에 있었던 long 형이 없어지고 모든 정수를 int형으로 인식\n",
        "    - 실수float : 소수점이 있는 숫자\n",
        "    - 복소수complex : 제곱해서 -1이 되는 허수를 포함, 허수 표현을 위해 문자 j 사용"
      ],
      "metadata": {
        "id": "yVSTdluIiM3k"
      }
    },
    {
      "cell_type": "markdown",
      "source": [
        "**1) 정수**"
      ],
      "metadata": {
        "id": "p8uI35l0iuL6"
      }
    },
    {
      "cell_type": "markdown",
      "source": [
        "- 정수 수 체계 :\n",
        "    - 양의 정수\n",
        "    - 0\n",
        "    - 음의 정수"
      ],
      "metadata": {
        "id": "X8IFzJwOiwXB"
      }
    },
    {
      "cell_type": "code",
      "execution_count": 1,
      "metadata": {
        "colab": {
          "base_uri": "https://localhost:8080/"
        },
        "id": "MmRaj9CUhT_w",
        "outputId": "12ed922a-8de7-4b76-b01b-c7b771d9ca60"
      },
      "outputs": [
        {
          "output_type": "execute_result",
          "data": {
            "text/plain": [
              "9223372036854775807"
            ]
          },
          "metadata": {},
          "execution_count": 1
        }
      ],
      "source": [
        "# 파이썬 3.x 버전에서 8바이트(64비트)로 양의 정수 저장시 최댓값 확인하기\n",
        "\n",
        "import sys\n",
        "sys.maxsize"
      ]
    },
    {
      "cell_type": "code",
      "source": [
        "# sys.maxsize의 자료형 확인하기\n",
        "\n",
        "type(sys.maxsize)"
      ],
      "metadata": {
        "colab": {
          "base_uri": "https://localhost:8080/"
        },
        "id": "Ee8pakAFjqic",
        "outputId": "97d92d56-d242-4816-a17e-2d05dbe63ad8"
      },
      "execution_count": 2,
      "outputs": [
        {
          "output_type": "execute_result",
          "data": {
            "text/plain": [
              "int"
            ]
          },
          "metadata": {},
          "execution_count": 2
        }
      ]
    },
    {
      "cell_type": "code",
      "source": [
        "# sys.maxsize+1의 자료형 확인하기\n",
        "\n",
        "type(sys.maxsize+1)"
      ],
      "metadata": {
        "colab": {
          "base_uri": "https://localhost:8080/"
        },
        "id": "ZNd5jxQtj0Yd",
        "outputId": "f370dd9a-100d-4cab-81c9-2babbe45e0e3"
      },
      "execution_count": 3,
      "outputs": [
        {
          "output_type": "execute_result",
          "data": {
            "text/plain": [
              "int"
            ]
          },
          "metadata": {},
          "execution_count": 3
        }
      ]
    },
    {
      "cell_type": "code",
      "source": [
        "# 정수 10의 자료형 확인하기\n",
        "\n",
        "type(10)"
      ],
      "metadata": {
        "colab": {
          "base_uri": "https://localhost:8080/"
        },
        "id": "6Xmeu9Byj3qa",
        "outputId": "5d2762ed-679e-41f1-9c02-4a7aab82274d"
      },
      "execution_count": 4,
      "outputs": [
        {
          "output_type": "execute_result",
          "data": {
            "text/plain": [
              "int"
            ]
          },
          "metadata": {},
          "execution_count": 4
        }
      ]
    },
    {
      "cell_type": "code",
      "source": [
        "# 2**31의(정수의 제곱) 자료형 확인하기\n",
        "\n",
        "print(type(2**31))\n",
        "\n",
        "print(type(2**40))"
      ],
      "metadata": {
        "colab": {
          "base_uri": "https://localhost:8080/"
        },
        "id": "l7G75RJfj8O_",
        "outputId": "c91d8ffa-9a89-4c1c-c576-64b65e3cd73a"
      },
      "execution_count": 7,
      "outputs": [
        {
          "output_type": "stream",
          "name": "stdout",
          "text": [
            "<class 'int'>\n",
            "<class 'int'>\n"
          ]
        }
      ]
    },
    {
      "cell_type": "code",
      "source": [
        "# 변수에 값 저장 후, 변수를 이용해 자료형 확인하기(1)\n",
        "\n",
        "a = 10\n",
        "type(a)"
      ],
      "metadata": {
        "colab": {
          "base_uri": "https://localhost:8080/"
        },
        "id": "zT-n_8s_kFqe",
        "outputId": "4eb06522-cc22-4bd1-e491-ae979951f2dd"
      },
      "execution_count": 8,
      "outputs": [
        {
          "output_type": "execute_result",
          "data": {
            "text/plain": [
              "int"
            ]
          },
          "metadata": {},
          "execution_count": 8
        }
      ]
    },
    {
      "cell_type": "code",
      "source": [
        "import sys\n",
        "b = sys.maxsize   # 2**63-1\n",
        "print(b)\n",
        "type(b)"
      ],
      "metadata": {
        "colab": {
          "base_uri": "https://localhost:8080/"
        },
        "id": "2PHuBgv8kSao",
        "outputId": "04477533-dc2e-4527-fd80-5581464ac06c"
      },
      "execution_count": 10,
      "outputs": [
        {
          "output_type": "stream",
          "name": "stdout",
          "text": [
            "9223372036854775807\n"
          ]
        },
        {
          "output_type": "execute_result",
          "data": {
            "text/plain": [
              "int"
            ]
          },
          "metadata": {},
          "execution_count": 10
        }
      ]
    },
    {
      "cell_type": "code",
      "source": [
        ""
      ],
      "metadata": {
        "id": "yVlVlHS0kesR"
      },
      "execution_count": null,
      "outputs": []
    },
    {
      "cell_type": "markdown",
      "source": [
        "**2) 실수**"
      ],
      "metadata": {
        "id": "Mmb1AZTykrcz"
      }
    },
    {
      "cell_type": "markdown",
      "source": [
        "- 실수 : 소수점 이하를 갖는 수(=부동소수점)\n",
        "\n",
        "- 파이썬 2.x 버전에서 정수와 정수의 연산 결과는 항상 정수형\n",
        "- 파이썬 3.x 버전에서 정수와 정수의 연산 결과는 실수형이 될 수 있다(나눗셈의 경우)\n",
        "- 지수 표현방식으로 표현 가능"
      ],
      "metadata": {
        "id": "KT4huD5zktSz"
      }
    },
    {
      "cell_type": "code",
      "source": [
        "# 변수에 값 저장 후, 변수를 이용해 자료형 확인하기(2)\n",
        "\n",
        "c = 3.5\n",
        "type(c)"
      ],
      "metadata": {
        "colab": {
          "base_uri": "https://localhost:8080/"
        },
        "id": "sx8slz6Jk1aU",
        "outputId": "25d51d48-9552-47e1-9b6d-59464e7ed8c3"
      },
      "execution_count": 11,
      "outputs": [
        {
          "output_type": "execute_result",
          "data": {
            "text/plain": [
              "float"
            ]
          },
          "metadata": {},
          "execution_count": 11
        }
      ]
    },
    {
      "cell_type": "code",
      "source": [
        "# 정수와 정수 연산 결과인 실수형 확인하기(1)\n",
        "\n",
        "print(3/2)\n",
        "type(3/2)"
      ],
      "metadata": {
        "colab": {
          "base_uri": "https://localhost:8080/"
        },
        "id": "kCfBIOANk9u7",
        "outputId": "1597460d-63d0-413c-8d9c-f7e8f43ea828"
      },
      "execution_count": 18,
      "outputs": [
        {
          "output_type": "stream",
          "name": "stdout",
          "text": [
            "1.5\n"
          ]
        },
        {
          "output_type": "execute_result",
          "data": {
            "text/plain": [
              "float"
            ]
          },
          "metadata": {},
          "execution_count": 18
        }
      ]
    },
    {
      "cell_type": "code",
      "source": [
        "# 정수와 정수 연산 결과인 실수형 확인하기(2)\n",
        "\n",
        "print(2/2)\n",
        "type(2/2)"
      ],
      "metadata": {
        "colab": {
          "base_uri": "https://localhost:8080/"
        },
        "id": "BWXrrt_AlhyD",
        "outputId": "477e9f15-0a69-46f1-a901-3a461076ffc8"
      },
      "execution_count": 17,
      "outputs": [
        {
          "output_type": "stream",
          "name": "stdout",
          "text": [
            "1.0\n"
          ]
        },
        {
          "output_type": "execute_result",
          "data": {
            "text/plain": [
              "float"
            ]
          },
          "metadata": {},
          "execution_count": 17
        }
      ]
    },
    {
      "cell_type": "code",
      "source": [
        "# 지수 표현방식으로 실수 나타내기\n",
        "\n",
        "1.23456e3"
      ],
      "metadata": {
        "colab": {
          "base_uri": "https://localhost:8080/"
        },
        "id": "POyUDtE-lnKE",
        "outputId": "223bc983-e3c7-485a-f6d5-6564f97234e0"
      },
      "execution_count": 19,
      "outputs": [
        {
          "output_type": "execute_result",
          "data": {
            "text/plain": [
              "1234.56"
            ]
          },
          "metadata": {},
          "execution_count": 19
        }
      ]
    },
    {
      "cell_type": "code",
      "source": [
        ""
      ],
      "metadata": {
        "id": "K7fO4kG6l9lz"
      },
      "execution_count": null,
      "outputs": []
    },
    {
      "cell_type": "markdown",
      "source": [
        "**3) 복소수**"
      ],
      "metadata": {
        "id": "Pp0qSMj1mLj6"
      }
    },
    {
      "cell_type": "markdown",
      "source": [
        "- 복소수 : 제곱해서 -1이 되는 허수를 포함하는 수\n",
        "\n",
        "\n",
        "- 복소수 표현시 j 문자는 단독으로 사용될 수 없고, 앞에 숫자를 붙여야 한다 "
      ],
      "metadata": {
        "id": "8jRq3FuqmOMK"
      }
    },
    {
      "cell_type": "code",
      "source": [
        "# 변수에 값 저장 후, 변수를 이용해 자료형 확인하기(3)\n",
        "\n",
        "d = 3 + 2j\n",
        "type(d)"
      ],
      "metadata": {
        "colab": {
          "base_uri": "https://localhost:8080/"
        },
        "id": "FDaJWRErmNhf",
        "outputId": "fdade624-5274-4a34-c368-e6f41f9a368c"
      },
      "execution_count": 20,
      "outputs": [
        {
          "output_type": "execute_result",
          "data": {
            "text/plain": [
              "complex"
            ]
          },
          "metadata": {},
          "execution_count": 20
        }
      ]
    },
    {
      "cell_type": "code",
      "source": [
        "# 제곱하면 -1이 되는 복소수 성질 확인하기\n",
        "\n",
        "d = 1j\n",
        "print(d**2)"
      ],
      "metadata": {
        "colab": {
          "base_uri": "https://localhost:8080/"
        },
        "id": "y86tYNSVm9x7",
        "outputId": "7435b824-f2c7-4bc1-8ec9-de14989b577d"
      },
      "execution_count": 22,
      "outputs": [
        {
          "output_type": "stream",
          "name": "stdout",
          "text": [
            "(-1+0j)\n"
          ]
        }
      ]
    },
    {
      "cell_type": "code",
      "source": [
        "# 복소수 표현 시, 단독 사용 불가한 j 확인하기(1) -> 오류 발생 \"name 'j' is not defined\"\n",
        "\n",
        "d = 3 + j"
      ],
      "metadata": {
        "colab": {
          "base_uri": "https://localhost:8080/",
          "height": 205
        },
        "id": "ME83hVKhnD1V",
        "outputId": "44f52346-153a-43a4-d9a7-fafb2f61c702"
      },
      "execution_count": 23,
      "outputs": [
        {
          "output_type": "error",
          "ename": "NameError",
          "evalue": "ignored",
          "traceback": [
            "\u001b[0;31m---------------------------------------------------------------------------\u001b[0m",
            "\u001b[0;31mNameError\u001b[0m                                 Traceback (most recent call last)",
            "\u001b[0;32m<ipython-input-23-307ab6323c62>\u001b[0m in \u001b[0;36m<module>\u001b[0;34m()\u001b[0m\n\u001b[1;32m      1\u001b[0m \u001b[0;31m# 복소수 표현 시, 단독 사용 불가한 j 확인하기\u001b[0m\u001b[0;34m\u001b[0m\u001b[0;34m\u001b[0m\u001b[0;34m\u001b[0m\u001b[0m\n\u001b[1;32m      2\u001b[0m \u001b[0;34m\u001b[0m\u001b[0m\n\u001b[0;32m----> 3\u001b[0;31m \u001b[0md\u001b[0m \u001b[0;34m=\u001b[0m \u001b[0;36m3\u001b[0m \u001b[0;34m+\u001b[0m \u001b[0mj\u001b[0m\u001b[0;34m\u001b[0m\u001b[0;34m\u001b[0m\u001b[0m\n\u001b[0m",
            "\u001b[0;31mNameError\u001b[0m: name 'j' is not defined"
          ]
        }
      ]
    },
    {
      "cell_type": "code",
      "source": [
        "# 복소수 표현 시, 단독 사용 불가한 j 확인하기(2)\n",
        "\n",
        "d = 3 + 1j\n",
        "print(d)"
      ],
      "metadata": {
        "colab": {
          "base_uri": "https://localhost:8080/"
        },
        "id": "HbFGgAG7nNsx",
        "outputId": "3efe409f-030e-4137-d4f6-caf8886743d8"
      },
      "execution_count": 26,
      "outputs": [
        {
          "output_type": "stream",
          "name": "stdout",
          "text": [
            "(3+1j)\n"
          ]
        }
      ]
    },
    {
      "cell_type": "code",
      "source": [
        ""
      ],
      "metadata": {
        "id": "Ubo5TFPVnWbW"
      },
      "execution_count": 26,
      "outputs": []
    },
    {
      "cell_type": "markdown",
      "source": [
        "**4) 최근 표현식 변수**"
      ],
      "metadata": {
        "id": "n1ezix3DncFs"
      }
    },
    {
      "cell_type": "markdown",
      "source": [
        "- 최근 표현식 변수(_변수) : 정의하지 않아도 사용할 수 있는 특별한 변수\n",
        "\n",
        "    - 마지막으로 인쇄된 표현식 결과가 저장된다\n",
        "    - 앞에서 실행했던 수식의 결과를 다시 사용할 수 있다 "
      ],
      "metadata": {
        "id": "JSZ4vnKnnewh"
      }
    },
    {
      "cell_type": "code",
      "source": [
        "# _ 변수로 가장 마지막 인쇄된 결과 확인하기\n",
        "\n",
        "a = 10\n",
        "b = 20\n",
        "a + b"
      ],
      "metadata": {
        "colab": {
          "base_uri": "https://localhost:8080/"
        },
        "id": "i2c92vd0nbpJ",
        "outputId": "bb0ac04b-013b-45d7-be1a-f81a26315b19"
      },
      "execution_count": 30,
      "outputs": [
        {
          "output_type": "execute_result",
          "data": {
            "text/plain": [
              "30"
            ]
          },
          "metadata": {},
          "execution_count": 30
        }
      ]
    },
    {
      "cell_type": "code",
      "source": [
        "_"
      ],
      "metadata": {
        "colab": {
          "base_uri": "https://localhost:8080/"
        },
        "id": "hfjiDrnDny_t",
        "outputId": "9a4d73ae-2f54-4dae-b9cd-f158dbfc761e"
      },
      "execution_count": 31,
      "outputs": [
        {
          "output_type": "execute_result",
          "data": {
            "text/plain": [
              "30"
            ]
          },
          "metadata": {},
          "execution_count": 31
        }
      ]
    },
    {
      "cell_type": "code",
      "source": [
        "# _ 변수를 활용해 이전의 표현식 a+b 결과값 재사용 하기\n",
        "\n",
        "c = 100\n",
        "print(c + _)   # print(c + (a+b)와 같음)"
      ],
      "metadata": {
        "colab": {
          "base_uri": "https://localhost:8080/"
        },
        "id": "rVU3k85jn1Wa",
        "outputId": "c289dba4-2a3b-4277-efce-113ab201f2c2"
      },
      "execution_count": 32,
      "outputs": [
        {
          "output_type": "stream",
          "name": "stdout",
          "text": [
            "130\n"
          ]
        }
      ]
    },
    {
      "cell_type": "code",
      "source": [
        "# 이전 라인에서 출력 결과가 생기지 않은 경우 _ 변수 값 확인하기\n",
        "\n",
        "c = 2+3+4\n",
        "_   # a+b 결과 출력"
      ],
      "metadata": {
        "colab": {
          "base_uri": "https://localhost:8080/"
        },
        "id": "FeoC7fmdoUcJ",
        "outputId": "b4c97a7f-df7b-4e97-b88a-b4d6dc3aec83"
      },
      "execution_count": 33,
      "outputs": [
        {
          "output_type": "execute_result",
          "data": {
            "text/plain": [
              "30"
            ]
          },
          "metadata": {},
          "execution_count": 33
        }
      ]
    },
    {
      "cell_type": "code",
      "source": [
        "c = 2+3+4   # 출력 결과가 없는 코드"
      ],
      "metadata": {
        "id": "GTVHoaopoqRG"
      },
      "execution_count": 35,
      "outputs": []
    },
    {
      "cell_type": "code",
      "source": [
        "_   # a+b 결과 출력"
      ],
      "metadata": {
        "colab": {
          "base_uri": "https://localhost:8080/"
        },
        "id": "LAtRWkbuorYi",
        "outputId": "59f578ce-ed7c-4579-f940-3c08d1bd69f0"
      },
      "execution_count": 36,
      "outputs": [
        {
          "output_type": "execute_result",
          "data": {
            "text/plain": [
              "30"
            ]
          },
          "metadata": {},
          "execution_count": 36
        }
      ]
    },
    {
      "cell_type": "code",
      "source": [
        "c   # 출력 결과가 있는 코드"
      ],
      "metadata": {
        "colab": {
          "base_uri": "https://localhost:8080/"
        },
        "id": "fkmFYhUeosXF",
        "outputId": "c5ff2d31-b547-43d2-b4ed-c6e24de8cd67"
      },
      "execution_count": 37,
      "outputs": [
        {
          "output_type": "execute_result",
          "data": {
            "text/plain": [
              "9"
            ]
          },
          "metadata": {},
          "execution_count": 37
        }
      ]
    },
    {
      "cell_type": "code",
      "source": [
        "_   # 직전에 출력한 c의 결과 출력"
      ],
      "metadata": {
        "colab": {
          "base_uri": "https://localhost:8080/"
        },
        "id": "7jlWgLJBou1J",
        "outputId": "a2d006d5-e813-471a-b560-b98926c3769f"
      },
      "execution_count": 38,
      "outputs": [
        {
          "output_type": "execute_result",
          "data": {
            "text/plain": [
              "9"
            ]
          },
          "metadata": {},
          "execution_count": 38
        }
      ]
    },
    {
      "cell_type": "code",
      "source": [
        ""
      ],
      "metadata": {
        "id": "64SiESCKovQM"
      },
      "execution_count": null,
      "outputs": []
    },
    {
      "cell_type": "code",
      "source": [
        ""
      ],
      "metadata": {
        "id": "9-mi-c-HpGS7"
      },
      "execution_count": null,
      "outputs": []
    },
    {
      "cell_type": "markdown",
      "source": [
        "### 3.2 문자형"
      ],
      "metadata": {
        "id": "Jn04uA3xpGlA"
      }
    },
    {
      "cell_type": "markdown",
      "source": [
        "**1) 문자형의 표현**"
      ],
      "metadata": {
        "id": "MhzqX2_opILt"
      }
    },
    {
      "cell_type": "markdown",
      "source": [
        "- 파이썬 문자열은 겹따옴표(\"\")와 홑따옴표('')로 묶어서 사용"
      ],
      "metadata": {
        "id": "0lpjZxp-pNSS"
      }
    },
    {
      "cell_type": "code",
      "source": [
        "# 곁따옴표와 홑따옴표를 사용한 문자열 출력하기\n",
        "\n",
        "name = \"JinKyoung\"\n",
        "address = '서울시 강남구'\n",
        "\n",
        "print(name, address)"
      ],
      "metadata": {
        "colab": {
          "base_uri": "https://localhost:8080/"
        },
        "id": "q6r7dazrpHug",
        "outputId": "4ef36162-04ad-4c06-e625-4bae5141a89f"
      },
      "execution_count": 39,
      "outputs": [
        {
          "output_type": "stream",
          "name": "stdout",
          "text": [
            "JinKyoung 서울시 강남구\n"
          ]
        }
      ]
    },
    {
      "cell_type": "code",
      "source": [
        ""
      ],
      "metadata": {
        "id": "deVjLPeOpf-O"
      },
      "execution_count": null,
      "outputs": []
    },
    {
      "cell_type": "markdown",
      "source": [
        "**2) 여러 줄 문자 표현**"
      ],
      "metadata": {
        "id": "JFcMVZNgphVT"
      }
    },
    {
      "cell_type": "markdown",
      "source": [
        "- 여러 줄의 문자열 작성시 겹따옴표 3개(\"\"\"\"\"\") 또는 홑따옴표 3개('''''')를 사용\n",
        "- 파이썬은 단일 문자와 문자열을 구분하지 않는다"
      ],
      "metadata": {
        "id": "TGiMZEf0pkB3"
      }
    },
    {
      "cell_type": "code",
      "source": [
        "# 홑따옴표 3개를 사용한 주석 표현하기\n",
        "\n",
        "text = '''이렇게 작성하면\n",
        "줄 바꿈도 그대로 적용해서\n",
        "여러 줄의 문자를 작성할 수 있습니다.'''\n",
        "\n",
        "print(text)"
      ],
      "metadata": {
        "colab": {
          "base_uri": "https://localhost:8080/"
        },
        "id": "LhvIT-ENpjCY",
        "outputId": "aede184a-a760-4866-c0bf-89725a9d0d84"
      },
      "execution_count": 41,
      "outputs": [
        {
          "output_type": "stream",
          "name": "stdout",
          "text": [
            "이렇게 작성하면\n",
            "줄 바꿈도 그대로 적용해서\n",
            "여러 줄의 문자를 작성할 수 있습니다.\n"
          ]
        }
      ]
    },
    {
      "cell_type": "code",
      "source": [
        ""
      ],
      "metadata": {
        "id": "T4ynzooNqHF2"
      },
      "execution_count": null,
      "outputs": []
    },
    {
      "cell_type": "markdown",
      "source": [
        "**3) 소스코드 줄 바꿈**"
      ],
      "metadata": {
        "id": "hpLfGv-pqGl_"
      }
    },
    {
      "cell_type": "markdown",
      "source": [
        "- 역슬래시(\\) : 코드를 줄 바꿈 하겠다는 의미"
      ],
      "metadata": {
        "id": "PAGt76AwqJwc"
      }
    },
    {
      "cell_type": "code",
      "source": [
        "# 역슬래시 없이 물리적 줄 바꿈(enter키 입력) 시 발생하는 오류 확인하기\n",
        "\n",
        "a = 1 + 2 + 3 +\n",
        "4 + 5"
      ],
      "metadata": {
        "colab": {
          "base_uri": "https://localhost:8080/",
          "height": 134
        },
        "id": "FlbrQmAWp8T4",
        "outputId": "48733d00-bcc4-4059-b2c6-0082e3d32159"
      },
      "execution_count": 43,
      "outputs": [
        {
          "output_type": "error",
          "ename": "SyntaxError",
          "evalue": "ignored",
          "traceback": [
            "\u001b[0;36m  File \u001b[0;32m\"<ipython-input-43-4f932ced4225>\"\u001b[0;36m, line \u001b[0;32m2\u001b[0m\n\u001b[0;31m    a = 1 + 2 + 3 +\u001b[0m\n\u001b[0m                   ^\u001b[0m\n\u001b[0;31mSyntaxError\u001b[0m\u001b[0;31m:\u001b[0m invalid syntax\n"
          ]
        }
      ]
    },
    {
      "cell_type": "code",
      "source": [
        "# 역슬래시로 소스코드 줄 바꿈하기\n",
        "\n",
        "a = 1 + 2 + 3 + \\\n",
        "4 + 5"
      ],
      "metadata": {
        "id": "N489MGKiqb8s"
      },
      "execution_count": 44,
      "outputs": []
    },
    {
      "cell_type": "code",
      "source": [
        ""
      ],
      "metadata": {
        "id": "FIgkw9Mlqw5U"
      },
      "execution_count": null,
      "outputs": []
    },
    {
      "cell_type": "markdown",
      "source": [
        "**4) 탈출 문자escape character**"
      ],
      "metadata": {
        "id": "iyNNszIZq--8"
      }
    },
    {
      "cell_type": "markdown",
      "source": [
        "- 탈출 문자 : 문자열 내에서 역슬래시(\\)와 같이 사용되어 특별한 의미를 갖는 문자\n",
        "- print() 함수를 이용해 출력할 경우에 적용\n",
        "\n",
        "    - \\n : 줄바꿈\n",
        "    - \\t : 탭 (첫 문자 또는 이전 탭 위치에서 다음 8번째 문자 위치로 이동시킴)\n",
        "    - \\r : 리턴 (행의 첫 번째 문자 위치로 돌아옴)\n",
        "    - \\0 : 널null\n",
        "    - \\\\ : 역슬래시(\\) 문자열로 표시\n",
        "    - \\' : 홑따옴표(') 문자열로 표시\n",
        "    - \\\" : 곁따옴표(\") 문자열로 표시"
      ],
      "metadata": {
        "id": "hk4d46rMrBLI"
      }
    },
    {
      "cell_type": "code",
      "source": [
        "# 탈출문자 사용하기(1) \\n\n",
        "\n",
        "print(\"Hello\\nWorld\")"
      ],
      "metadata": {
        "colab": {
          "base_uri": "https://localhost:8080/"
        },
        "id": "qyCM9efLrAfU",
        "outputId": "5d650f93-67eb-496d-f98f-0b42ef47a0f0"
      },
      "execution_count": 45,
      "outputs": [
        {
          "output_type": "stream",
          "name": "stdout",
          "text": [
            "Hello\n",
            "World\n"
          ]
        }
      ]
    },
    {
      "cell_type": "code",
      "source": [
        "# print() 함수를 사용하지 않은 탈출문자 출력결과 확인하기\n",
        "\n",
        "hello_str = \"Hello\\nWorld\"\n",
        "hello_str"
      ],
      "metadata": {
        "colab": {
          "base_uri": "https://localhost:8080/",
          "height": 36
        },
        "id": "7mRrolz4r7EZ",
        "outputId": "7e7bd151-26c0-4afc-e651-372a741c2d79"
      },
      "execution_count": 48,
      "outputs": [
        {
          "output_type": "execute_result",
          "data": {
            "text/plain": [
              "'Hello\\nWorld'"
            ],
            "application/vnd.google.colaboratory.intrinsic+json": {
              "type": "string"
            }
          },
          "metadata": {},
          "execution_count": 48
        }
      ]
    },
    {
      "cell_type": "code",
      "source": [
        "# 탈출문자 사용하기(2) \\t\n",
        "\n",
        "print(\"Hello\\tWorld\")"
      ],
      "metadata": {
        "colab": {
          "base_uri": "https://localhost:8080/"
        },
        "id": "hkCxkUq_sHbq",
        "outputId": "1fc6cb35-1709-43d6-8a30-c10f4b04ae1e"
      },
      "execution_count": 52,
      "outputs": [
        {
          "output_type": "stream",
          "name": "stdout",
          "text": [
            "Hello\tWorld\n"
          ]
        }
      ]
    },
    {
      "cell_type": "code",
      "source": [
        "# 탈출문자 사용하기(3) \\r\n",
        "\n",
        "print(\"HelloWorld\\rNice\")"
      ],
      "metadata": {
        "colab": {
          "base_uri": "https://localhost:8080/"
        },
        "id": "LUPk9JTssXmh",
        "outputId": "b7286b14-1917-4113-e2d7-30300443d301"
      },
      "execution_count": 53,
      "outputs": [
        {
          "output_type": "stream",
          "name": "stdout",
          "text": [
            "HelloWorld\rNice\n"
          ]
        }
      ]
    },
    {
      "cell_type": "code",
      "source": [
        "# 탈출문자 사용하기(4) \\0\n",
        "\n",
        "print(\"Hello\\0World\")"
      ],
      "metadata": {
        "colab": {
          "base_uri": "https://localhost:8080/"
        },
        "id": "f-qIiHtQsdWG",
        "outputId": "90ce7e46-d085-468a-9db5-1c40bef66329"
      },
      "execution_count": 55,
      "outputs": [
        {
          "output_type": "stream",
          "name": "stdout",
          "text": [
            "Hello\u0000World\n"
          ]
        }
      ]
    },
    {
      "cell_type": "code",
      "source": [
        "# 탈출문자 사용하기(5) \\\\\n",
        "\n",
        "print(\"Hello\\\\World\")"
      ],
      "metadata": {
        "colab": {
          "base_uri": "https://localhost:8080/"
        },
        "id": "YlDTQuk_tjzB",
        "outputId": "1f2038ee-d852-4a55-c4d2-1fe3aa47210c"
      },
      "execution_count": 56,
      "outputs": [
        {
          "output_type": "stream",
          "name": "stdout",
          "text": [
            "Hello\\World\n"
          ]
        }
      ]
    },
    {
      "cell_type": "code",
      "source": [
        "# 탈출문자 사용하기(6) \\' \\\"\n",
        "\n",
        "print(\"Hello\\'World\")\n",
        "print(\"Hello\\\"World\")"
      ],
      "metadata": {
        "colab": {
          "base_uri": "https://localhost:8080/"
        },
        "id": "sPtl4u6Utvov",
        "outputId": "e116aa6d-4311-48f6-eddc-2d1c787338eb"
      },
      "execution_count": 58,
      "outputs": [
        {
          "output_type": "stream",
          "name": "stdout",
          "text": [
            "Hello'World\n",
            "Hello\"World\n"
          ]
        }
      ]
    },
    {
      "cell_type": "code",
      "source": [
        "# 탈출문자 없이 곁/홑따옴표 출력하기\n",
        "\n",
        "print(\"Hello'World\")\n",
        "print('Hello\"World')"
      ],
      "metadata": {
        "colab": {
          "base_uri": "https://localhost:8080/"
        },
        "id": "dV3U8XE_t0e9",
        "outputId": "e4b2a812-9f85-4a76-ec49-320543351510"
      },
      "execution_count": 59,
      "outputs": [
        {
          "output_type": "stream",
          "name": "stdout",
          "text": [
            "Hello'World\n",
            "Hello\"World\n"
          ]
        }
      ]
    },
    {
      "cell_type": "code",
      "source": [
        ""
      ],
      "metadata": {
        "id": "-Q17KuDwuDsg"
      },
      "execution_count": null,
      "outputs": []
    }
  ]
}