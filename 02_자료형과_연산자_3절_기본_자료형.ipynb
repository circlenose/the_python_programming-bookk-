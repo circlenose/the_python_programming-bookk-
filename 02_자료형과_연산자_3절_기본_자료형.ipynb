{
  "nbformat": 4,
  "nbformat_minor": 0,
  "metadata": {
    "colab": {
      "name": "02. 자료형과 연산자_3절. 기본 자료형.ipynb",
      "provenance": [],
      "collapsed_sections": [],
      "authorship_tag": "ABX9TyPSVX3wKH4p7S3OW3p5y3h+",
      "include_colab_link": true
    },
    "kernelspec": {
      "name": "python3",
      "display_name": "Python 3"
    },
    "language_info": {
      "name": "python"
    }
  },
  "cells": [
    {
      "cell_type": "markdown",
      "metadata": {
        "id": "view-in-github",
        "colab_type": "text"
      },
      "source": [
        "<a href=\"https://colab.research.google.com/github/circlenose/the_python_programming-bookk-/blob/main/02_%EC%9E%90%EB%A3%8C%ED%98%95%EA%B3%BC_%EC%97%B0%EC%82%B0%EC%9E%90_3%EC%A0%88_%EA%B8%B0%EB%B3%B8_%EC%9E%90%EB%A3%8C%ED%98%95.ipynb\" target=\"_parent\"><img src=\"https://colab.research.google.com/assets/colab-badge.svg\" alt=\"Open In Colab\"/></a>"
      ]
    },
    {
      "cell_type": "markdown",
      "source": [
        "## 3절. 기본 자료형"
      ],
      "metadata": {
        "id": "T-zVAMIehaqD"
      }
    },
    {
      "cell_type": "markdown",
      "source": [
        "- 자료형data type : 프로그래밍 언어에서 정수int, 실수float, 논리bool 등 여러 유형의 자료 중에서 어떤 유형의 값을 가질 수 있는지에 대해 알려주는 속성\n",
        "- 자료형으로 인해 변수에 저장할 수 있는 값의 범위(또는 크기)와 값을 저장하는 방식, 해당 자료형을 이용해 수행할 수 있는 명령들이이 달라짐\n",
        "- 파이썬은 자료형 개념을 포함하고 있으나, 변수 선언 시 자료형을 지정하는 키워드가 존재하지 않음\n",
        "- 파이썬 기본 자료형 : 숫자형 / 문자형 / 논리형"
      ],
      "metadata": {
        "id": "W_996_yYhl0l"
      }
    },
    {
      "cell_type": "markdown",
      "source": [
        "### 3.1 숫자형"
      ],
      "metadata": {
        "id": "Xf2xRi4FhglV"
      }
    },
    {
      "cell_type": "markdown",
      "source": [
        "- 파이썬 숫자형 :\n",
        "    - 정수int : 소수점이 없는 숫자, 3.x 버전에서는 2.x 버전에 있었던 long 형이 없어지고 모든 정수를 int형으로 인식\n",
        "    - 실수float : 소수점이 있는 숫자\n",
        "    - 복소수complex : 제곱해서 -1이 되는 허수를 포함, 허수 표현을 위해 문자 j 사용"
      ],
      "metadata": {
        "id": "yVSTdluIiM3k"
      }
    },
    {
      "cell_type": "markdown",
      "source": [
        "**1) 정수**"
      ],
      "metadata": {
        "id": "p8uI35l0iuL6"
      }
    },
    {
      "cell_type": "markdown",
      "source": [
        "- 정수 수 체계 :\n",
        "    - 양의 정수\n",
        "    - 0\n",
        "    - 음의 정수"
      ],
      "metadata": {
        "id": "X8IFzJwOiwXB"
      }
    },
    {
      "cell_type": "code",
      "execution_count": null,
      "metadata": {
        "colab": {
          "base_uri": "https://localhost:8080/"
        },
        "id": "MmRaj9CUhT_w",
        "outputId": "12ed922a-8de7-4b76-b01b-c7b771d9ca60"
      },
      "outputs": [
        {
          "output_type": "execute_result",
          "data": {
            "text/plain": [
              "9223372036854775807"
            ]
          },
          "metadata": {},
          "execution_count": 1
        }
      ],
      "source": [
        "# 파이썬 3.x 버전에서 8바이트(64비트)로 양의 정수 저장시 최댓값 확인하기\n",
        "\n",
        "import sys\n",
        "sys.maxsize"
      ]
    },
    {
      "cell_type": "code",
      "source": [
        "# sys.maxsize의 자료형 확인하기\n",
        "\n",
        "type(sys.maxsize)"
      ],
      "metadata": {
        "colab": {
          "base_uri": "https://localhost:8080/"
        },
        "id": "Ee8pakAFjqic",
        "outputId": "97d92d56-d242-4816-a17e-2d05dbe63ad8"
      },
      "execution_count": null,
      "outputs": [
        {
          "output_type": "execute_result",
          "data": {
            "text/plain": [
              "int"
            ]
          },
          "metadata": {},
          "execution_count": 2
        }
      ]
    },
    {
      "cell_type": "code",
      "source": [
        "# sys.maxsize+1의 자료형 확인하기\n",
        "\n",
        "type(sys.maxsize+1)"
      ],
      "metadata": {
        "colab": {
          "base_uri": "https://localhost:8080/"
        },
        "id": "ZNd5jxQtj0Yd",
        "outputId": "f370dd9a-100d-4cab-81c9-2babbe45e0e3"
      },
      "execution_count": null,
      "outputs": [
        {
          "output_type": "execute_result",
          "data": {
            "text/plain": [
              "int"
            ]
          },
          "metadata": {},
          "execution_count": 3
        }
      ]
    },
    {
      "cell_type": "code",
      "source": [
        "# 정수 10의 자료형 확인하기\n",
        "\n",
        "type(10)"
      ],
      "metadata": {
        "colab": {
          "base_uri": "https://localhost:8080/"
        },
        "id": "6Xmeu9Byj3qa",
        "outputId": "5d2762ed-679e-41f1-9c02-4a7aab82274d"
      },
      "execution_count": null,
      "outputs": [
        {
          "output_type": "execute_result",
          "data": {
            "text/plain": [
              "int"
            ]
          },
          "metadata": {},
          "execution_count": 4
        }
      ]
    },
    {
      "cell_type": "code",
      "source": [
        "# 2**31의(정수의 제곱) 자료형 확인하기\n",
        "\n",
        "print(type(2**31))\n",
        "\n",
        "print(type(2**40))"
      ],
      "metadata": {
        "colab": {
          "base_uri": "https://localhost:8080/"
        },
        "id": "l7G75RJfj8O_",
        "outputId": "c91d8ffa-9a89-4c1c-c576-64b65e3cd73a"
      },
      "execution_count": null,
      "outputs": [
        {
          "output_type": "stream",
          "name": "stdout",
          "text": [
            "<class 'int'>\n",
            "<class 'int'>\n"
          ]
        }
      ]
    },
    {
      "cell_type": "code",
      "source": [
        "# 변수에 값 저장 후, 변수를 이용해 자료형 확인하기(1)\n",
        "\n",
        "a = 10\n",
        "type(a)"
      ],
      "metadata": {
        "colab": {
          "base_uri": "https://localhost:8080/"
        },
        "id": "zT-n_8s_kFqe",
        "outputId": "4eb06522-cc22-4bd1-e491-ae979951f2dd"
      },
      "execution_count": null,
      "outputs": [
        {
          "output_type": "execute_result",
          "data": {
            "text/plain": [
              "int"
            ]
          },
          "metadata": {},
          "execution_count": 8
        }
      ]
    },
    {
      "cell_type": "code",
      "source": [
        "import sys\n",
        "b = sys.maxsize   # 2**63-1\n",
        "print(b)\n",
        "type(b)"
      ],
      "metadata": {
        "colab": {
          "base_uri": "https://localhost:8080/"
        },
        "id": "2PHuBgv8kSao",
        "outputId": "04477533-dc2e-4527-fd80-5581464ac06c"
      },
      "execution_count": null,
      "outputs": [
        {
          "output_type": "stream",
          "name": "stdout",
          "text": [
            "9223372036854775807\n"
          ]
        },
        {
          "output_type": "execute_result",
          "data": {
            "text/plain": [
              "int"
            ]
          },
          "metadata": {},
          "execution_count": 10
        }
      ]
    },
    {
      "cell_type": "code",
      "source": [
        ""
      ],
      "metadata": {
        "id": "yVlVlHS0kesR"
      },
      "execution_count": null,
      "outputs": []
    },
    {
      "cell_type": "markdown",
      "source": [
        "**2) 실수**"
      ],
      "metadata": {
        "id": "Mmb1AZTykrcz"
      }
    },
    {
      "cell_type": "markdown",
      "source": [
        "- 실수 : 소수점 이하를 갖는 수(=부동소수점)\n",
        "\n",
        "- 파이썬 2.x 버전에서 정수와 정수의 연산 결과는 항상 정수형\n",
        "- 파이썬 3.x 버전에서 정수와 정수의 연산 결과는 실수형이 될 수 있다(나눗셈의 경우)\n",
        "- 지수 표현방식으로 표현 가능"
      ],
      "metadata": {
        "id": "KT4huD5zktSz"
      }
    },
    {
      "cell_type": "code",
      "source": [
        "# 변수에 값 저장 후, 변수를 이용해 자료형 확인하기(2)\n",
        "\n",
        "c = 3.5\n",
        "type(c)"
      ],
      "metadata": {
        "colab": {
          "base_uri": "https://localhost:8080/"
        },
        "id": "sx8slz6Jk1aU",
        "outputId": "25d51d48-9552-47e1-9b6d-59464e7ed8c3"
      },
      "execution_count": null,
      "outputs": [
        {
          "output_type": "execute_result",
          "data": {
            "text/plain": [
              "float"
            ]
          },
          "metadata": {},
          "execution_count": 11
        }
      ]
    },
    {
      "cell_type": "code",
      "source": [
        "# 정수와 정수 연산 결과인 실수형 확인하기(1)\n",
        "\n",
        "print(3/2)\n",
        "type(3/2)"
      ],
      "metadata": {
        "colab": {
          "base_uri": "https://localhost:8080/"
        },
        "id": "kCfBIOANk9u7",
        "outputId": "1597460d-63d0-413c-8d9c-f7e8f43ea828"
      },
      "execution_count": null,
      "outputs": [
        {
          "output_type": "stream",
          "name": "stdout",
          "text": [
            "1.5\n"
          ]
        },
        {
          "output_type": "execute_result",
          "data": {
            "text/plain": [
              "float"
            ]
          },
          "metadata": {},
          "execution_count": 18
        }
      ]
    },
    {
      "cell_type": "code",
      "source": [
        "# 정수와 정수 연산 결과인 실수형 확인하기(2)\n",
        "\n",
        "print(2/2)\n",
        "type(2/2)"
      ],
      "metadata": {
        "colab": {
          "base_uri": "https://localhost:8080/"
        },
        "id": "BWXrrt_AlhyD",
        "outputId": "477e9f15-0a69-46f1-a901-3a461076ffc8"
      },
      "execution_count": null,
      "outputs": [
        {
          "output_type": "stream",
          "name": "stdout",
          "text": [
            "1.0\n"
          ]
        },
        {
          "output_type": "execute_result",
          "data": {
            "text/plain": [
              "float"
            ]
          },
          "metadata": {},
          "execution_count": 17
        }
      ]
    },
    {
      "cell_type": "code",
      "source": [
        "# 지수 표현방식으로 실수 나타내기\n",
        "\n",
        "1.23456e3"
      ],
      "metadata": {
        "colab": {
          "base_uri": "https://localhost:8080/"
        },
        "id": "POyUDtE-lnKE",
        "outputId": "223bc983-e3c7-485a-f6d5-6564f97234e0"
      },
      "execution_count": null,
      "outputs": [
        {
          "output_type": "execute_result",
          "data": {
            "text/plain": [
              "1234.56"
            ]
          },
          "metadata": {},
          "execution_count": 19
        }
      ]
    },
    {
      "cell_type": "code",
      "source": [
        ""
      ],
      "metadata": {
        "id": "K7fO4kG6l9lz"
      },
      "execution_count": null,
      "outputs": []
    },
    {
      "cell_type": "markdown",
      "source": [
        "**3) 복소수**"
      ],
      "metadata": {
        "id": "Pp0qSMj1mLj6"
      }
    },
    {
      "cell_type": "markdown",
      "source": [
        "- 복소수 : 제곱해서 -1이 되는 허수를 포함하는 수\n",
        "\n",
        "\n",
        "- 복소수 표현시 j 문자는 단독으로 사용될 수 없고, 앞에 숫자를 붙여야 한다 "
      ],
      "metadata": {
        "id": "8jRq3FuqmOMK"
      }
    },
    {
      "cell_type": "code",
      "source": [
        "# 변수에 값 저장 후, 변수를 이용해 자료형 확인하기(3)\n",
        "\n",
        "d = 3 + 2j\n",
        "type(d)"
      ],
      "metadata": {
        "colab": {
          "base_uri": "https://localhost:8080/"
        },
        "id": "FDaJWRErmNhf",
        "outputId": "fdade624-5274-4a34-c368-e6f41f9a368c"
      },
      "execution_count": null,
      "outputs": [
        {
          "output_type": "execute_result",
          "data": {
            "text/plain": [
              "complex"
            ]
          },
          "metadata": {},
          "execution_count": 20
        }
      ]
    },
    {
      "cell_type": "code",
      "source": [
        "# 제곱하면 -1이 되는 복소수 성질 확인하기\n",
        "\n",
        "d = 1j\n",
        "print(d**2)"
      ],
      "metadata": {
        "colab": {
          "base_uri": "https://localhost:8080/"
        },
        "id": "y86tYNSVm9x7",
        "outputId": "7435b824-f2c7-4bc1-8ec9-de14989b577d"
      },
      "execution_count": null,
      "outputs": [
        {
          "output_type": "stream",
          "name": "stdout",
          "text": [
            "(-1+0j)\n"
          ]
        }
      ]
    },
    {
      "cell_type": "code",
      "source": [
        "# 복소수 표현 시, 단독 사용 불가한 j 확인하기(1) -> 오류 발생 \"name 'j' is not defined\"\n",
        "\n",
        "d = 3 + j"
      ],
      "metadata": {
        "colab": {
          "base_uri": "https://localhost:8080/",
          "height": 205
        },
        "id": "ME83hVKhnD1V",
        "outputId": "44f52346-153a-43a4-d9a7-fafb2f61c702"
      },
      "execution_count": null,
      "outputs": [
        {
          "output_type": "error",
          "ename": "NameError",
          "evalue": "ignored",
          "traceback": [
            "\u001b[0;31m---------------------------------------------------------------------------\u001b[0m",
            "\u001b[0;31mNameError\u001b[0m                                 Traceback (most recent call last)",
            "\u001b[0;32m<ipython-input-23-307ab6323c62>\u001b[0m in \u001b[0;36m<module>\u001b[0;34m()\u001b[0m\n\u001b[1;32m      1\u001b[0m \u001b[0;31m# 복소수 표현 시, 단독 사용 불가한 j 확인하기\u001b[0m\u001b[0;34m\u001b[0m\u001b[0;34m\u001b[0m\u001b[0;34m\u001b[0m\u001b[0m\n\u001b[1;32m      2\u001b[0m \u001b[0;34m\u001b[0m\u001b[0m\n\u001b[0;32m----> 3\u001b[0;31m \u001b[0md\u001b[0m \u001b[0;34m=\u001b[0m \u001b[0;36m3\u001b[0m \u001b[0;34m+\u001b[0m \u001b[0mj\u001b[0m\u001b[0;34m\u001b[0m\u001b[0;34m\u001b[0m\u001b[0m\n\u001b[0m",
            "\u001b[0;31mNameError\u001b[0m: name 'j' is not defined"
          ]
        }
      ]
    },
    {
      "cell_type": "code",
      "source": [
        "# 복소수 표현 시, 단독 사용 불가한 j 확인하기(2)\n",
        "\n",
        "d = 3 + 1j\n",
        "print(d)"
      ],
      "metadata": {
        "colab": {
          "base_uri": "https://localhost:8080/"
        },
        "id": "HbFGgAG7nNsx",
        "outputId": "3efe409f-030e-4137-d4f6-caf8886743d8"
      },
      "execution_count": null,
      "outputs": [
        {
          "output_type": "stream",
          "name": "stdout",
          "text": [
            "(3+1j)\n"
          ]
        }
      ]
    },
    {
      "cell_type": "code",
      "source": [
        ""
      ],
      "metadata": {
        "id": "Ubo5TFPVnWbW"
      },
      "execution_count": null,
      "outputs": []
    },
    {
      "cell_type": "markdown",
      "source": [
        "**4) 최근 표현식 변수**"
      ],
      "metadata": {
        "id": "n1ezix3DncFs"
      }
    },
    {
      "cell_type": "markdown",
      "source": [
        "- 최근 표현식 변수(_변수) : 정의하지 않아도 사용할 수 있는 특별한 변수\n",
        "\n",
        "    - 마지막으로 인쇄된 표현식 결과가 저장된다\n",
        "    - 앞에서 실행했던 수식의 결과를 다시 사용할 수 있다 "
      ],
      "metadata": {
        "id": "JSZ4vnKnnewh"
      }
    },
    {
      "cell_type": "code",
      "source": [
        "# _ 변수로 가장 마지막 인쇄된 결과 확인하기\n",
        "\n",
        "a = 10\n",
        "b = 20\n",
        "a + b"
      ],
      "metadata": {
        "colab": {
          "base_uri": "https://localhost:8080/"
        },
        "id": "i2c92vd0nbpJ",
        "outputId": "bb0ac04b-013b-45d7-be1a-f81a26315b19"
      },
      "execution_count": null,
      "outputs": [
        {
          "output_type": "execute_result",
          "data": {
            "text/plain": [
              "30"
            ]
          },
          "metadata": {},
          "execution_count": 30
        }
      ]
    },
    {
      "cell_type": "code",
      "source": [
        "_"
      ],
      "metadata": {
        "colab": {
          "base_uri": "https://localhost:8080/"
        },
        "id": "hfjiDrnDny_t",
        "outputId": "9a4d73ae-2f54-4dae-b9cd-f158dbfc761e"
      },
      "execution_count": null,
      "outputs": [
        {
          "output_type": "execute_result",
          "data": {
            "text/plain": [
              "30"
            ]
          },
          "metadata": {},
          "execution_count": 31
        }
      ]
    },
    {
      "cell_type": "code",
      "source": [
        "# _ 변수를 활용해 이전의 표현식 a+b 결과값 재사용 하기\n",
        "\n",
        "c = 100\n",
        "print(c + _)   # print(c + (a+b)와 같음)"
      ],
      "metadata": {
        "colab": {
          "base_uri": "https://localhost:8080/"
        },
        "id": "rVU3k85jn1Wa",
        "outputId": "c289dba4-2a3b-4277-efce-113ab201f2c2"
      },
      "execution_count": null,
      "outputs": [
        {
          "output_type": "stream",
          "name": "stdout",
          "text": [
            "130\n"
          ]
        }
      ]
    },
    {
      "cell_type": "code",
      "source": [
        "# 이전 라인에서 출력 결과가 생기지 않은 경우 _ 변수 값 확인하기\n",
        "\n",
        "c = 2+3+4\n",
        "_   # a+b 결과 출력"
      ],
      "metadata": {
        "colab": {
          "base_uri": "https://localhost:8080/"
        },
        "id": "FeoC7fmdoUcJ",
        "outputId": "b4c97a7f-df7b-4e97-b88a-b4d6dc3aec83"
      },
      "execution_count": null,
      "outputs": [
        {
          "output_type": "execute_result",
          "data": {
            "text/plain": [
              "30"
            ]
          },
          "metadata": {},
          "execution_count": 33
        }
      ]
    },
    {
      "cell_type": "code",
      "source": [
        "c = 2+3+4   # 출력 결과가 없는 코드"
      ],
      "metadata": {
        "id": "GTVHoaopoqRG"
      },
      "execution_count": null,
      "outputs": []
    },
    {
      "cell_type": "code",
      "source": [
        "_   # a+b 결과 출력"
      ],
      "metadata": {
        "colab": {
          "base_uri": "https://localhost:8080/"
        },
        "id": "LAtRWkbuorYi",
        "outputId": "59f578ce-ed7c-4579-f940-3c08d1bd69f0"
      },
      "execution_count": null,
      "outputs": [
        {
          "output_type": "execute_result",
          "data": {
            "text/plain": [
              "30"
            ]
          },
          "metadata": {},
          "execution_count": 36
        }
      ]
    },
    {
      "cell_type": "code",
      "source": [
        "c   # 출력 결과가 있는 코드"
      ],
      "metadata": {
        "colab": {
          "base_uri": "https://localhost:8080/"
        },
        "id": "fkmFYhUeosXF",
        "outputId": "c5ff2d31-b547-43d2-b4ed-c6e24de8cd67"
      },
      "execution_count": null,
      "outputs": [
        {
          "output_type": "execute_result",
          "data": {
            "text/plain": [
              "9"
            ]
          },
          "metadata": {},
          "execution_count": 37
        }
      ]
    },
    {
      "cell_type": "code",
      "source": [
        "_   # 직전에 출력한 c의 결과 출력"
      ],
      "metadata": {
        "colab": {
          "base_uri": "https://localhost:8080/"
        },
        "id": "7jlWgLJBou1J",
        "outputId": "a2d006d5-e813-471a-b560-b98926c3769f"
      },
      "execution_count": null,
      "outputs": [
        {
          "output_type": "execute_result",
          "data": {
            "text/plain": [
              "9"
            ]
          },
          "metadata": {},
          "execution_count": 38
        }
      ]
    },
    {
      "cell_type": "code",
      "source": [
        ""
      ],
      "metadata": {
        "id": "64SiESCKovQM"
      },
      "execution_count": null,
      "outputs": []
    },
    {
      "cell_type": "code",
      "source": [
        ""
      ],
      "metadata": {
        "id": "9-mi-c-HpGS7"
      },
      "execution_count": null,
      "outputs": []
    },
    {
      "cell_type": "markdown",
      "source": [
        "### **3.2 문자형**"
      ],
      "metadata": {
        "id": "Jn04uA3xpGlA"
      }
    },
    {
      "cell_type": "markdown",
      "source": [
        "**1) 문자형의 표현**"
      ],
      "metadata": {
        "id": "MhzqX2_opILt"
      }
    },
    {
      "cell_type": "markdown",
      "source": [
        "- 파이썬 문자열은 겹따옴표(\"\")와 홑따옴표('')로 묶어서 사용"
      ],
      "metadata": {
        "id": "0lpjZxp-pNSS"
      }
    },
    {
      "cell_type": "code",
      "source": [
        "# 곁따옴표와 홑따옴표를 사용한 문자열 출력하기\n",
        "\n",
        "name = \"JinKyoung\"\n",
        "address = '서울시 강남구'\n",
        "\n",
        "print(name, address)"
      ],
      "metadata": {
        "colab": {
          "base_uri": "https://localhost:8080/"
        },
        "id": "q6r7dazrpHug",
        "outputId": "4ef36162-04ad-4c06-e625-4bae5141a89f"
      },
      "execution_count": null,
      "outputs": [
        {
          "output_type": "stream",
          "name": "stdout",
          "text": [
            "JinKyoung 서울시 강남구\n"
          ]
        }
      ]
    },
    {
      "cell_type": "markdown",
      "source": [
        ""
      ],
      "metadata": {
        "id": "oTJObY7ppDcZ"
      }
    },
    {
      "cell_type": "markdown",
      "source": [
        "**2) 여러 줄 문자 표현**"
      ],
      "metadata": {
        "id": "JFcMVZNgphVT"
      }
    },
    {
      "cell_type": "markdown",
      "source": [
        "- 여러 줄의 문자열 작성시 겹따옴표 3개(\"\"\"\"\"\") 또는 홑따옴표 3개('''''')를 사용\n",
        "- 파이썬은 단일 문자와 문자열을 구분하지 않는다"
      ],
      "metadata": {
        "id": "TGiMZEf0pkB3"
      }
    },
    {
      "cell_type": "code",
      "source": [
        "# 홑따옴표 3개를 사용한 주석 표현하기\n",
        "\n",
        "text = '''이렇게 작성하면\n",
        "줄 바꿈도 그대로 적용해서\n",
        "여러 줄의 문자를 작성할 수 있습니다.'''\n",
        "\n",
        "print(text)"
      ],
      "metadata": {
        "colab": {
          "base_uri": "https://localhost:8080/"
        },
        "id": "LhvIT-ENpjCY",
        "outputId": "aede184a-a760-4866-c0bf-89725a9d0d84"
      },
      "execution_count": null,
      "outputs": [
        {
          "output_type": "stream",
          "name": "stdout",
          "text": [
            "이렇게 작성하면\n",
            "줄 바꿈도 그대로 적용해서\n",
            "여러 줄의 문자를 작성할 수 있습니다.\n"
          ]
        }
      ]
    },
    {
      "cell_type": "code",
      "source": [
        ""
      ],
      "metadata": {
        "id": "T4ynzooNqHF2"
      },
      "execution_count": null,
      "outputs": []
    },
    {
      "cell_type": "markdown",
      "source": [
        "**3) 소스코드 줄 바꿈**"
      ],
      "metadata": {
        "id": "hpLfGv-pqGl_"
      }
    },
    {
      "cell_type": "markdown",
      "source": [
        "- 역슬래시(\\) : 코드를 줄 바꿈 하겠다는 의미"
      ],
      "metadata": {
        "id": "PAGt76AwqJwc"
      }
    },
    {
      "cell_type": "code",
      "source": [
        "# 역슬래시 없이 물리적 줄 바꿈(enter키 입력) 시 발생하는 오류 확인하기\n",
        "\n",
        "a = 1 + 2 + 3 +\n",
        "4 + 5"
      ],
      "metadata": {
        "colab": {
          "base_uri": "https://localhost:8080/",
          "height": 134
        },
        "id": "FlbrQmAWp8T4",
        "outputId": "48733d00-bcc4-4059-b2c6-0082e3d32159"
      },
      "execution_count": null,
      "outputs": [
        {
          "output_type": "error",
          "ename": "SyntaxError",
          "evalue": "ignored",
          "traceback": [
            "\u001b[0;36m  File \u001b[0;32m\"<ipython-input-43-4f932ced4225>\"\u001b[0;36m, line \u001b[0;32m2\u001b[0m\n\u001b[0;31m    a = 1 + 2 + 3 +\u001b[0m\n\u001b[0m                   ^\u001b[0m\n\u001b[0;31mSyntaxError\u001b[0m\u001b[0;31m:\u001b[0m invalid syntax\n"
          ]
        }
      ]
    },
    {
      "cell_type": "code",
      "source": [
        "# 역슬래시로 소스코드 줄 바꿈하기\n",
        "\n",
        "a = 1 + 2 + 3 + \\\n",
        "4 + 5"
      ],
      "metadata": {
        "id": "N489MGKiqb8s"
      },
      "execution_count": null,
      "outputs": []
    },
    {
      "cell_type": "markdown",
      "source": [
        ""
      ],
      "metadata": {
        "id": "uaUkDxGvpCRX"
      }
    },
    {
      "cell_type": "markdown",
      "source": [
        "**4) 탈출 문자escape character**"
      ],
      "metadata": {
        "id": "iyNNszIZq--8"
      }
    },
    {
      "cell_type": "markdown",
      "source": [
        "- 탈출 문자 : 문자열 내에서 역슬래시(\\)와 같이 사용되어 특별한 의미를 갖는 문자\n",
        "- print() 함수를 이용해 출력할 경우에 적용\n",
        "\n",
        "    - \\n : 줄바꿈\n",
        "    - \\t : 탭 (첫 문자 또는 이전 탭 위치에서 다음 8번째 문자 위치로 이동시킴)\n",
        "    - \\r : 리턴 (행의 첫 번째 문자 위치로 돌아옴)\n",
        "    - \\0 : 널null\n",
        "    - \\\\ : 역슬래시(\\) 문자열로 표시\n",
        "    - \\' : 홑따옴표(') 문자열로 표시\n",
        "    - \\\" : 곁따옴표(\") 문자열로 표시"
      ],
      "metadata": {
        "id": "hk4d46rMrBLI"
      }
    },
    {
      "cell_type": "code",
      "source": [
        "# 탈출문자 사용하기(1) \\n\n",
        "\n",
        "print(\"Hello\\nWorld\")"
      ],
      "metadata": {
        "colab": {
          "base_uri": "https://localhost:8080/"
        },
        "id": "qyCM9efLrAfU",
        "outputId": "5d650f93-67eb-496d-f98f-0b42ef47a0f0"
      },
      "execution_count": null,
      "outputs": [
        {
          "output_type": "stream",
          "name": "stdout",
          "text": [
            "Hello\n",
            "World\n"
          ]
        }
      ]
    },
    {
      "cell_type": "code",
      "source": [
        "# print() 함수를 사용하지 않은 탈출문자 출력결과 확인하기\n",
        "\n",
        "hello_str = \"Hello\\nWorld\"\n",
        "hello_str"
      ],
      "metadata": {
        "colab": {
          "base_uri": "https://localhost:8080/",
          "height": 36
        },
        "id": "7mRrolz4r7EZ",
        "outputId": "7e7bd151-26c0-4afc-e651-372a741c2d79"
      },
      "execution_count": null,
      "outputs": [
        {
          "output_type": "execute_result",
          "data": {
            "text/plain": [
              "'Hello\\nWorld'"
            ],
            "application/vnd.google.colaboratory.intrinsic+json": {
              "type": "string"
            }
          },
          "metadata": {},
          "execution_count": 48
        }
      ]
    },
    {
      "cell_type": "code",
      "source": [
        "# 탈출문자 사용하기(2) \\t\n",
        "\n",
        "print(\"Hello\\tWorld\")"
      ],
      "metadata": {
        "colab": {
          "base_uri": "https://localhost:8080/"
        },
        "id": "hkCxkUq_sHbq",
        "outputId": "1fc6cb35-1709-43d6-8a30-c10f4b04ae1e"
      },
      "execution_count": null,
      "outputs": [
        {
          "output_type": "stream",
          "name": "stdout",
          "text": [
            "Hello\tWorld\n"
          ]
        }
      ]
    },
    {
      "cell_type": "code",
      "source": [
        "# 탈출문자 사용하기(3) \\r\n",
        "\n",
        "print(\"HelloWorld\\rNice\")"
      ],
      "metadata": {
        "colab": {
          "base_uri": "https://localhost:8080/"
        },
        "id": "LUPk9JTssXmh",
        "outputId": "b7286b14-1917-4113-e2d7-30300443d301"
      },
      "execution_count": null,
      "outputs": [
        {
          "output_type": "stream",
          "name": "stdout",
          "text": [
            "HelloWorld\rNice\n"
          ]
        }
      ]
    },
    {
      "cell_type": "code",
      "source": [
        "# 탈출문자 사용하기(4) \\0\n",
        "\n",
        "print(\"Hello\\0World\")"
      ],
      "metadata": {
        "colab": {
          "base_uri": "https://localhost:8080/"
        },
        "id": "f-qIiHtQsdWG",
        "outputId": "90ce7e46-d085-468a-9db5-1c40bef66329"
      },
      "execution_count": null,
      "outputs": [
        {
          "output_type": "stream",
          "name": "stdout",
          "text": [
            "Hello\u0000World\n"
          ]
        }
      ]
    },
    {
      "cell_type": "code",
      "source": [
        "# 탈출문자 사용하기(5) \\\\\n",
        "\n",
        "print(\"Hello\\\\World\")"
      ],
      "metadata": {
        "colab": {
          "base_uri": "https://localhost:8080/"
        },
        "id": "YlDTQuk_tjzB",
        "outputId": "1f2038ee-d852-4a55-c4d2-1fe3aa47210c"
      },
      "execution_count": null,
      "outputs": [
        {
          "output_type": "stream",
          "name": "stdout",
          "text": [
            "Hello\\World\n"
          ]
        }
      ]
    },
    {
      "cell_type": "code",
      "source": [
        "# 탈출문자 사용하기(6) \\' \\\"\n",
        "\n",
        "print(\"Hello\\'World\")\n",
        "print(\"Hello\\\"World\")"
      ],
      "metadata": {
        "colab": {
          "base_uri": "https://localhost:8080/"
        },
        "id": "sPtl4u6Utvov",
        "outputId": "e116aa6d-4311-48f6-eddc-2d1c787338eb"
      },
      "execution_count": null,
      "outputs": [
        {
          "output_type": "stream",
          "name": "stdout",
          "text": [
            "Hello'World\n",
            "Hello\"World\n"
          ]
        }
      ]
    },
    {
      "cell_type": "code",
      "source": [
        "# 탈출문자 없이 곁/홑따옴표 출력하기\n",
        "\n",
        "print(\"Hello'World\")\n",
        "print('Hello\"World')"
      ],
      "metadata": {
        "colab": {
          "base_uri": "https://localhost:8080/"
        },
        "id": "dV3U8XE_t0e9",
        "outputId": "e4b2a812-9f85-4a76-ec49-320543351510"
      },
      "execution_count": null,
      "outputs": [
        {
          "output_type": "stream",
          "name": "stdout",
          "text": [
            "Hello'World\n",
            "Hello\"World\n"
          ]
        }
      ]
    },
    {
      "cell_type": "markdown",
      "source": [
        ""
      ],
      "metadata": {
        "id": "fboU0T1ypAzj"
      }
    },
    {
      "cell_type": "markdown",
      "source": [
        "**5) 문자열 연결하기**"
      ],
      "metadata": {
        "id": "OeiZA4OXT0io"
      }
    },
    {
      "cell_type": "markdown",
      "source": [
        "- 문자열 연결법 \n",
        "    - 문자열 + 문자열\n",
        "    - 문자열 공백 문자열\n",
        "\n",
        "- 문자열 반복법\n",
        "    - 문자열 * 숫자\n",
        "        - 탈출문자도 반복 가능"
      ],
      "metadata": {
        "id": "oOzOZl0iT4eo"
      }
    },
    {
      "cell_type": "code",
      "source": [
        "# 문자열 연결법(1) - 문자열 + 문자열\n",
        "\n",
        "\"Hello\"+\"Wolrd\""
      ],
      "metadata": {
        "colab": {
          "base_uri": "https://localhost:8080/",
          "height": 36
        },
        "id": "3zLyde3MT4Ef",
        "outputId": "0cc40795-72f9-4a89-f07c-df2920d76579"
      },
      "execution_count": null,
      "outputs": [
        {
          "output_type": "execute_result",
          "data": {
            "text/plain": [
              "'HelloWolrd'"
            ],
            "application/vnd.google.colaboratory.intrinsic+json": {
              "type": "string"
            }
          },
          "metadata": {},
          "execution_count": 1
        }
      ]
    },
    {
      "cell_type": "code",
      "source": [
        "# 문자열 연결법(2) - 문자열 공백 문자열\n",
        "\n",
        "\"Hello\" \"World\""
      ],
      "metadata": {
        "colab": {
          "base_uri": "https://localhost:8080/",
          "height": 36
        },
        "id": "n7b12-R2USwj",
        "outputId": "8f1f4f5e-a118-4a32-b4a1-8cd4a3474420"
      },
      "execution_count": null,
      "outputs": [
        {
          "output_type": "execute_result",
          "data": {
            "text/plain": [
              "'HelloWorld'"
            ],
            "application/vnd.google.colaboratory.intrinsic+json": {
              "type": "string"
            }
          },
          "metadata": {},
          "execution_count": 2
        }
      ]
    },
    {
      "cell_type": "code",
      "source": [
        "# 문자열 반복(1) - 문자열 * 숫자\n",
        "\n",
        "\"Hello\" * 2"
      ],
      "metadata": {
        "colab": {
          "base_uri": "https://localhost:8080/",
          "height": 36
        },
        "id": "FgIdVunIUZqe",
        "outputId": "7d8d4143-0d12-4749-eda0-3a86a813485d"
      },
      "execution_count": null,
      "outputs": [
        {
          "output_type": "execute_result",
          "data": {
            "text/plain": [
              "'HelloHello'"
            ],
            "application/vnd.google.colaboratory.intrinsic+json": {
              "type": "string"
            }
          },
          "metadata": {},
          "execution_count": 3
        }
      ]
    },
    {
      "cell_type": "code",
      "source": [
        "# 문자열 반복(2) - 탈출문자를 포함한 문자열 * 숫자 \n",
        "\n",
        "print(\"\\tHello\" * 5)   # 공백 8칸째에 첫번째 Hello 생성 그 후로는 글자수 포함 공백 8칸"
      ],
      "metadata": {
        "colab": {
          "base_uri": "https://localhost:8080/"
        },
        "id": "uuJ7d3V4Ujm7",
        "outputId": "4aa21137-8f53-4953-9b81-661a76c30ec5"
      },
      "execution_count": null,
      "outputs": [
        {
          "output_type": "stream",
          "name": "stdout",
          "text": [
            "\tHello\tHello\tHello\tHello\tHello\n"
          ]
        }
      ]
    },
    {
      "cell_type": "markdown",
      "source": [
        ""
      ],
      "metadata": {
        "id": "ZC_UqlCro_gS"
      }
    },
    {
      "cell_type": "markdown",
      "source": [
        "**6) 문자열 인덱싱**"
      ],
      "metadata": {
        "id": "pWPx0dkqVSKF"
      }
    },
    {
      "cell_type": "markdown",
      "source": [
        "문자열 인덱싱 : 지정한 위치의 문자를 뽑아낼 수 있다\n",
        "\n",
        "- 항상 0부터 시작\n",
        "- 음수 -1은 맨 뒤의 문자 의미\n",
        "- 인덱스를 벗어나는 참조는 오류 발생"
      ],
      "metadata": {
        "id": "HeLBrBbWVWKT"
      }
    },
    {
      "cell_type": "code",
      "source": [
        "# 문자열 인덱싱(1) - 'Python' 문자열에서 인덱스 0이 가리키는 위치의 문자 뽑기\n",
        "\n",
        "\"Python\"[0]   # 문자열이므로 \"\" 쓰는 것을 잊지말자, 생략 시 오류발생!"
      ],
      "metadata": {
        "colab": {
          "base_uri": "https://localhost:8080/",
          "height": 36
        },
        "id": "hyW0-XzLVVXv",
        "outputId": "81125a09-5105-4817-9e33-d4b9938d8f20"
      },
      "execution_count": null,
      "outputs": [
        {
          "output_type": "execute_result",
          "data": {
            "text/plain": [
              "'P'"
            ],
            "application/vnd.google.colaboratory.intrinsic+json": {
              "type": "string"
            }
          },
          "metadata": {},
          "execution_count": 7
        }
      ]
    },
    {
      "cell_type": "code",
      "source": [
        "# 문자열 인덱싱(2) - 'Python' 문자열에서 인덱스 -1이 가리키는 위치의 문자 뽑기\n",
        "\n",
        "\"Python\"[-1]"
      ],
      "metadata": {
        "colab": {
          "base_uri": "https://localhost:8080/",
          "height": 36
        },
        "id": "QNfBoIbHgJ3Y",
        "outputId": "fb588c99-3b66-412c-86d4-ca5e01e498aa"
      },
      "execution_count": null,
      "outputs": [
        {
          "output_type": "execute_result",
          "data": {
            "text/plain": [
              "'n'"
            ],
            "application/vnd.google.colaboratory.intrinsic+json": {
              "type": "string"
            }
          },
          "metadata": {},
          "execution_count": 9
        }
      ]
    },
    {
      "cell_type": "code",
      "source": [
        "# 문자열 인덱싱(3) - 인덱스를 벗어나는 참조 오류 확인하기\n",
        "\n",
        "\"Python\"[6]"
      ],
      "metadata": {
        "colab": {
          "base_uri": "https://localhost:8080/",
          "height": 205
        },
        "id": "88WyCSkAgOIP",
        "outputId": "2e78d4fa-0b31-4f44-9aef-5b2d4d49f020"
      },
      "execution_count": null,
      "outputs": [
        {
          "output_type": "error",
          "ename": "IndexError",
          "evalue": "ignored",
          "traceback": [
            "\u001b[0;31m---------------------------------------------------------------------------\u001b[0m",
            "\u001b[0;31mIndexError\u001b[0m                                Traceback (most recent call last)",
            "\u001b[0;32m<ipython-input-10-9c781fd13283>\u001b[0m in \u001b[0;36m<module>\u001b[0;34m()\u001b[0m\n\u001b[1;32m      1\u001b[0m \u001b[0;31m# 문자열 인덱싱(3) - 인덱스를 벗어나는 참조 오류 확인하기\u001b[0m\u001b[0;34m\u001b[0m\u001b[0;34m\u001b[0m\u001b[0;34m\u001b[0m\u001b[0m\n\u001b[1;32m      2\u001b[0m \u001b[0;34m\u001b[0m\u001b[0m\n\u001b[0;32m----> 3\u001b[0;31m \u001b[0;34m\"Python\"\u001b[0m\u001b[0;34m[\u001b[0m\u001b[0;36m6\u001b[0m\u001b[0;34m]\u001b[0m\u001b[0;34m\u001b[0m\u001b[0;34m\u001b[0m\u001b[0m\n\u001b[0m",
            "\u001b[0;31mIndexError\u001b[0m: string index out of range"
          ]
        }
      ]
    },
    {
      "cell_type": "markdown",
      "source": [
        ""
      ],
      "metadata": {
        "id": "cHEKUswOo-S6"
      }
    },
    {
      "cell_type": "markdown",
      "source": [
        "**7) 문자열 자르기 - [from : to]**\n",
        "\n"
      ],
      "metadata": {
        "id": "awGJ5iS0gq9Q"
      }
    },
    {
      "cell_type": "markdown",
      "source": [
        "- 문자열 자르기 : 문자열[from : to] 형식으로 부분 문자열 추출이 가능하다\n",
        "    - from 위치의 문자는 포함 / to 위치의 문자는 불포함\n",
        "    - from : \n",
        "        - 부분 문자열을 뽑아낼 시작 인덱스\n",
        "        - 양수 또는 음수 사용\n",
        "        - 생략시 맨 처음 인덱스 자동 지정 [:m] : 처음부터 m 인덱스 위치 (m 제외)까지 추출\n",
        "\n",
        "    - to : 부분 문자열을 뽑아낼 끝 인덱스\n",
        "        - 양수 또는 음수 사용\n",
        "        - 생략시 맨 마지막 인덱스보다 1 큰 위치의 인덱스가 자동으로 지정 [n:] : 처음부터 마지막까지 추출\n",
        "        - to 인덱스는 불포함하기 때문\n"
      ],
      "metadata": {
        "id": "aqB_5jMigt2q"
      }
    },
    {
      "cell_type": "code",
      "source": [
        "# 변수에 문자열 지정하기\n",
        "\n",
        "str_ = 'Python'   # 변수를 활용한 부분 문자열 추출도 가능"
      ],
      "metadata": {
        "id": "sw-TheYmgtEY"
      },
      "execution_count": null,
      "outputs": []
    },
    {
      "cell_type": "code",
      "source": [
        "# 문자열[from:to]로 추출하기(1) - 'Python' 전체 출력하기\n",
        "\n",
        "print(str_[0:6])\n",
        "\n",
        "\n",
        "# 또는\n",
        "\n",
        "print(str_[0:])   # to 인덱스 불포함 -> 맨 마지막 문자까지 추출(이 경우 가장 마지막 인덱스의 문자도 포함)\n",
        "\n",
        "\n",
        "# 또는\n",
        "\n",
        "print(str_[:6])   # from 인덱스 불포함 -> 맨 처음 인덱스부터 추출\n",
        "\n",
        "\n",
        "# 또는 \n",
        "\n",
        "print(str_[:])   # from : to 모두 생략 -> 전체 문자열 그대로 반환"
      ],
      "metadata": {
        "colab": {
          "base_uri": "https://localhost:8080/"
        },
        "id": "wGhhifzzjepZ",
        "outputId": "023563b6-696a-42c4-91f3-1552518aca80"
      },
      "execution_count": null,
      "outputs": [
        {
          "output_type": "stream",
          "name": "stdout",
          "text": [
            "Python\n",
            "Python\n",
            "Python\n",
            "Python\n"
          ]
        }
      ]
    },
    {
      "cell_type": "code",
      "source": [
        "# 문자열[from:to]로 추출하기(2) - 음수를 이용한 부분 문자열 추출\n",
        "\n",
        "str_[-6:-1]   # 이 경우에도 to 위치의 요소는 포함되지 않는다"
      ],
      "metadata": {
        "colab": {
          "base_uri": "https://localhost:8080/",
          "height": 36
        },
        "id": "ebILpiQ-jz0I",
        "outputId": "87eacf43-668e-47c5-d322-a76647be8278"
      },
      "execution_count": null,
      "outputs": [
        {
          "output_type": "execute_result",
          "data": {
            "text/plain": [
              "'Pytho'"
            ],
            "application/vnd.google.colaboratory.intrinsic+json": {
              "type": "string"
            }
          },
          "metadata": {},
          "execution_count": 16
        }
      ]
    },
    {
      "cell_type": "code",
      "source": [
        "# 문자열[from:to]로 추출하기(3) - 음수를 이용한 부분 문자열 추출\n",
        "\n",
        "str_[-6:]   # 음수를 이용해 맨 마지막까지 추출을 원할 경우 to 인덱스를 불포함하면 된다"
      ],
      "metadata": {
        "colab": {
          "base_uri": "https://localhost:8080/",
          "height": 36
        },
        "id": "Yufs9p_Hk9BY",
        "outputId": "128e3873-509d-4f6d-bdb3-17d61900a7a3"
      },
      "execution_count": null,
      "outputs": [
        {
          "output_type": "execute_result",
          "data": {
            "text/plain": [
              "'Python'"
            ],
            "application/vnd.google.colaboratory.intrinsic+json": {
              "type": "string"
            }
          },
          "metadata": {},
          "execution_count": 19
        }
      ]
    },
    {
      "cell_type": "code",
      "source": [
        "# 문자열[from:to]로 추출하기(4) - 음수를 이용한 부분 문자열 추출\n",
        "\n",
        "str_[:-1]   # 음수를 이용해 맨 처음부터 추출을 원할 경우 from 인덱스를 불포함하면 된다"
      ],
      "metadata": {
        "id": "j99lZuARlNsg",
        "colab": {
          "base_uri": "https://localhost:8080/",
          "height": 36
        },
        "outputId": "895d34df-d2f7-4cf6-b6dc-27586b4d5869"
      },
      "execution_count": null,
      "outputs": [
        {
          "output_type": "execute_result",
          "data": {
            "text/plain": [
              "'Pytho'"
            ],
            "application/vnd.google.colaboratory.intrinsic+json": {
              "type": "string"
            }
          },
          "metadata": {},
          "execution_count": 20
        }
      ]
    },
    {
      "cell_type": "code",
      "source": [
        "# 문자열[from:to]로 추출하기(5) - 인덱스를 벗어나는 경우 결과 확인하기\n",
        "\n",
        "str_[-1:-5]   # 인덱싱의 경우 문자열 인덱스를 벗어나면 오류가 발생하지만 슬라이싱은 문자열의 인덱스를 벗어나더라도 오류는 발생하지 않는다"
      ],
      "metadata": {
        "id": "tLwhlKIXl1ZQ",
        "colab": {
          "base_uri": "https://localhost:8080/",
          "height": 36
        },
        "outputId": "02690277-5eb2-472c-be2c-0b779730b6cd"
      },
      "execution_count": null,
      "outputs": [
        {
          "output_type": "execute_result",
          "data": {
            "text/plain": [
              "''"
            ],
            "application/vnd.google.colaboratory.intrinsic+json": {
              "type": "string"
            }
          },
          "metadata": {},
          "execution_count": 22
        }
      ]
    },
    {
      "cell_type": "markdown",
      "source": [
        ""
      ],
      "metadata": {
        "id": "-d8-kQOKo8Bh"
      }
    },
    {
      "cell_type": "markdown",
      "source": [
        "**8) 문자열 자르기 - [from : to : by]**"
      ],
      "metadata": {
        "id": "PJfgUqGto9Qw"
      }
    },
    {
      "cell_type": "markdown",
      "source": [
        "- 문자열[from : to : by] : 매 by번째 아이템을 추출\n",
        "- from, to, by는 생략될 수 있다\n",
        "- 문자열뿐만 아니라 리스트, 튜플 등에서도 사용 가능\n",
        "\n",
        "- by :\n",
        "  - 음수를 가질 수 있다 : 문자열 역순 추출이 가능\n",
        "  - by가 음수인 경우 to 인덱스는 from 인덱스에 비해 앞의 인덱스여야 한다\n",
        "\n",
        "- from, to, by 모두 음수 지정이 가능하다"
      ],
      "metadata": {
        "id": "A08x4Ql6pMmx"
      }
    },
    {
      "cell_type": "code",
      "source": [
        "# 문자열 자르기(1) - from, to를 생략한 자르기\n",
        "\n",
        "'0123456789'[::2]"
      ],
      "metadata": {
        "id": "Y6aCtA0Jm3fJ",
        "colab": {
          "base_uri": "https://localhost:8080/",
          "height": 36
        },
        "outputId": "063e930d-df7b-4596-cc7f-e873fcfdf40a"
      },
      "execution_count": null,
      "outputs": [
        {
          "output_type": "execute_result",
          "data": {
            "text/plain": [
              "'02468'"
            ],
            "application/vnd.google.colaboratory.intrinsic+json": {
              "type": "string"
            }
          },
          "metadata": {},
          "execution_count": 1
        }
      ]
    },
    {
      "cell_type": "code",
      "source": [
        "# 문자열 자르기(2) - from, to를 생략한 자르기\n",
        "\n",
        "'0123456789'[::3]"
      ],
      "metadata": {
        "colab": {
          "base_uri": "https://localhost:8080/",
          "height": 36
        },
        "id": "PWNq0er2pjut",
        "outputId": "6ac34fb7-62a4-4732-a920-9be0925ec618"
      },
      "execution_count": null,
      "outputs": [
        {
          "output_type": "execute_result",
          "data": {
            "text/plain": [
              "'0369'"
            ],
            "application/vnd.google.colaboratory.intrinsic+json": {
              "type": "string"
            }
          },
          "metadata": {},
          "execution_count": 2
        }
      ]
    },
    {
      "cell_type": "code",
      "source": [
        "# 문자열 자르기(3) - from, to를 생략한 자르기\n",
        "\n",
        "'0123456789'[2:8:2]"
      ],
      "metadata": {
        "colab": {
          "base_uri": "https://localhost:8080/",
          "height": 36
        },
        "id": "UBAjb_DgptqD",
        "outputId": "42bae66a-f31d-46b9-8f76-65c40b159a81"
      },
      "execution_count": null,
      "outputs": [
        {
          "output_type": "execute_result",
          "data": {
            "text/plain": [
              "'246'"
            ],
            "application/vnd.google.colaboratory.intrinsic+json": {
              "type": "string"
            }
          },
          "metadata": {},
          "execution_count": 3
        }
      ]
    },
    {
      "cell_type": "code",
      "source": [
        "# 문자열 자르기(4) - by가 음수인 자르기\n",
        "\n",
        "'0123456789'[9::-2]"
      ],
      "metadata": {
        "colab": {
          "base_uri": "https://localhost:8080/",
          "height": 36
        },
        "id": "8ghnXtOWpw-C",
        "outputId": "c8bb84a8-b747-4830-8012-356cc376575e"
      },
      "execution_count": null,
      "outputs": [
        {
          "output_type": "execute_result",
          "data": {
            "text/plain": [
              "'97531'"
            ],
            "application/vnd.google.colaboratory.intrinsic+json": {
              "type": "string"
            }
          },
          "metadata": {},
          "execution_count": 4
        }
      ]
    },
    {
      "cell_type": "code",
      "source": [
        "# 문자열 자르기(5) - by가 음수인 자르기\n",
        "\n",
        "'0123456789'[::-2]"
      ],
      "metadata": {
        "colab": {
          "base_uri": "https://localhost:8080/",
          "height": 36
        },
        "id": "pnSdHGahqZZp",
        "outputId": "a9e689a4-dca7-42a8-ec74-88dc5d8a5e05"
      },
      "execution_count": null,
      "outputs": [
        {
          "output_type": "execute_result",
          "data": {
            "text/plain": [
              "'97531'"
            ],
            "application/vnd.google.colaboratory.intrinsic+json": {
              "type": "string"
            }
          },
          "metadata": {},
          "execution_count": 6
        }
      ]
    },
    {
      "cell_type": "code",
      "source": [
        "# 문자열 자르기(6) - by가 음수인 자르기\n",
        "\n",
        "'0123456789'[:0:-2]"
      ],
      "metadata": {
        "colab": {
          "base_uri": "https://localhost:8080/",
          "height": 36
        },
        "id": "iDkUcsuGqkE_",
        "outputId": "83c2dac8-a9f6-47b2-b9b9-7a7f5c20ed10"
      },
      "execution_count": null,
      "outputs": [
        {
          "output_type": "execute_result",
          "data": {
            "text/plain": [
              "'97531'"
            ],
            "application/vnd.google.colaboratory.intrinsic+json": {
              "type": "string"
            }
          },
          "metadata": {},
          "execution_count": 7
        }
      ]
    },
    {
      "cell_type": "code",
      "source": [
        "# 문자열 자르기(7) - by가 음수인 자르기\n",
        "\n",
        "'0123456789'[-1::-2]"
      ],
      "metadata": {
        "colab": {
          "base_uri": "https://localhost:8080/",
          "height": 36
        },
        "id": "SMtXhVp9qsfM",
        "outputId": "2ed167cf-8b02-4f99-aaa2-ea9ed7d57273"
      },
      "execution_count": null,
      "outputs": [
        {
          "output_type": "execute_result",
          "data": {
            "text/plain": [
              "'97531'"
            ],
            "application/vnd.google.colaboratory.intrinsic+json": {
              "type": "string"
            }
          },
          "metadata": {},
          "execution_count": 8
        }
      ]
    },
    {
      "cell_type": "code",
      "source": [
        "# 문자열 자르기(8) - from, to, by가 모두 음수인 자르기\n",
        "\n",
        "'0123456789'[-1:-10:-2]"
      ],
      "metadata": {
        "colab": {
          "base_uri": "https://localhost:8080/",
          "height": 36
        },
        "id": "Xk1shQQUqx1n",
        "outputId": "df7d7196-40d2-47b9-fc48-62223cfad599"
      },
      "execution_count": null,
      "outputs": [
        {
          "output_type": "execute_result",
          "data": {
            "text/plain": [
              "'97531'"
            ],
            "application/vnd.google.colaboratory.intrinsic+json": {
              "type": "string"
            }
          },
          "metadata": {},
          "execution_count": 11
        }
      ]
    },
    {
      "cell_type": "markdown",
      "source": [
        ""
      ],
      "metadata": {
        "id": "CGa4nrnprTeS"
      }
    },
    {
      "cell_type": "markdown",
      "source": [
        "**9) raw 문자열**"
      ],
      "metadata": {
        "id": "UN3Rt-5yrTk1"
      }
    },
    {
      "cell_type": "markdown",
      "source": [
        "- raw 문자열 : \n",
        "  - 문자열 앞에 r을 붙여 선언, r을 붙이면 역슬래시 문자를 해석하지 않고 남겨둔다\n",
        "  - 탈출 문자를 사용하지 않고 역슬래시 등의 문자를 그대로 표현해서 사용 시 유용\n",
        "  - 특히 정규표현식과 같은 곳에 유용\n",
        "\n",
        "\n",
        "- 정규표현식\n",
        "  - 패턴을 이용해 해당 패턴과 일치하는 문자열을 찾거나 위치를 알 수 있다"
      ],
      "metadata": {
        "id": "GEYkyYdtrWur"
      }
    },
    {
      "cell_type": "code",
      "source": [
        "# raw 문자열을 사용하지 않은 역슬래시 문자 출력하기\n",
        "\n",
        "print(\"\\n \\t \\r \\\\ \\' \\\"\")"
      ],
      "metadata": {
        "colab": {
          "base_uri": "https://localhost:8080/"
        },
        "id": "8fuyz10vq5d0",
        "outputId": "37c06ce2-5a96-4e2e-cdde-5bab3fce3ba9"
      },
      "execution_count": null,
      "outputs": [
        {
          "output_type": "stream",
          "name": "stdout",
          "text": [
            "\n",
            " \t \r \\ ' \"\n"
          ]
        }
      ]
    },
    {
      "cell_type": "code",
      "source": [
        "# raw 문자열을 사용한 역슬래시 문자 출력하기\n",
        "\n",
        "print(r\"\\n \\t \\r \\\\ \\' \\\"\")"
      ],
      "metadata": {
        "colab": {
          "base_uri": "https://localhost:8080/"
        },
        "id": "4pAN6F5Qr1oh",
        "outputId": "a832186e-2721-41b9-d56f-d4a69fb825e0"
      },
      "execution_count": null,
      "outputs": [
        {
          "output_type": "stream",
          "name": "stdout",
          "text": [
            "\\n \\t \\r \\\\ \\' \\\"\n"
          ]
        }
      ]
    },
    {
      "cell_type": "code",
      "source": [
        "# 정규표현식으로 전화번호 형식을 갖는 문자열 찾기\n",
        "\n",
        "import re\n",
        "\n",
        "data = \"이름:홍길동, 주소:서울시, 전화번호:010-2345-6789, 특징:동에번쩍서에번쩍\"\n",
        "phone_pattern = r'[\\d]{3,4}-[\\d]{4}-[\\d]{4}'\n",
        "phone = re.findall(phone_pattern, data)\n",
        "print(phone)"
      ],
      "metadata": {
        "colab": {
          "base_uri": "https://localhost:8080/"
        },
        "id": "N1xVIc03sBBJ",
        "outputId": "ead22209-1541-4205-c759-837aabb4edb0"
      },
      "execution_count": null,
      "outputs": [
        {
          "output_type": "stream",
          "name": "stdout",
          "text": [
            "['010-2345-6789']\n"
          ]
        }
      ]
    },
    {
      "cell_type": "markdown",
      "source": [
        ""
      ],
      "metadata": {
        "id": "fP5vcgzIossh"
      }
    },
    {
      "cell_type": "markdown",
      "source": [
        "**10) 문자열을 다루는 함수**"
      ],
      "metadata": {
        "id": "wzeYbleeos5D"
      }
    },
    {
      "cell_type": "markdown",
      "source": [
        "- split('delimiter') : 문자열을 구분문자delimiter로 잘라 리스트로 반환\n",
        "  - 기본 구분자는 공백\n",
        "  - 함수의 결과는 문자열을 갖는 리스트\n",
        "\n",
        "\n",
        "- 'delimiter'.join([\"str1\", ...]) : 문자열 리스트를 구분문자delimiter로 연결\n",
        "- capitalize() : 첫 문자를 대문자로, 나머지 문자를 소문자로 변환\n",
        "- upper(), lower() : 문자열을 모두 대문자 또는 소문자로 변환\n",
        "- startswith(), endswith() : 특정 문자로 시작하는지와 끝나는지를 식별해서 논리(True/False)값 반환\n",
        "- find(), index() : 특정 문자의 인덱스 반환\n",
        "- isalnum(), isalpha(), isnumeric(), isdecimal() : 해당 문자열이 숫자인지, 문자인지 판별\n",
        "- replace(old, new) : old 문자를 new 문자로 치환"
      ],
      "metadata": {
        "id": "E8cBXgozoyPF"
      }
    },
    {
      "cell_type": "code",
      "source": [
        "# split() 함수를 사용한 문자열 나누기\n",
        "\n",
        "temp = 'python is easy'\n",
        "temp.split()"
      ],
      "metadata": {
        "colab": {
          "base_uri": "https://localhost:8080/"
        },
        "id": "Yi8HSghqtAZE",
        "outputId": "84914cd5-63a4-4ffd-fc0e-98e432a9b647"
      },
      "execution_count": null,
      "outputs": [
        {
          "output_type": "execute_result",
          "data": {
            "text/plain": [
              "['python', 'is', 'easy']"
            ]
          },
          "metadata": {},
          "execution_count": 1
        }
      ]
    },
    {
      "cell_type": "code",
      "source": [
        "# split() 함수를 사용한 문자열 나누기\n",
        "\n",
        "temp = 'python,java,R,SAS'\n",
        "temp.split(',')"
      ],
      "metadata": {
        "colab": {
          "base_uri": "https://localhost:8080/"
        },
        "id": "Le_Y-z_oqGqP",
        "outputId": "2f7cb059-bd7c-4110-ee41-0dd5dff59506"
      },
      "execution_count": null,
      "outputs": [
        {
          "output_type": "execute_result",
          "data": {
            "text/plain": [
              "['python', 'java', 'R', 'SAS']"
            ]
          },
          "metadata": {},
          "execution_count": 3
        }
      ]
    },
    {
      "cell_type": "code",
      "source": [
        "# split() 함수를 사용해 나눈 결과(리스트) 확인하기\n",
        "\n",
        "temp = 'python is easy'\n",
        "temp = temp.split()\n",
        "type(temp)"
      ],
      "metadata": {
        "colab": {
          "base_uri": "https://localhost:8080/"
        },
        "id": "jX1S1I_NqMr2",
        "outputId": "bf0f88f5-0daf-457e-e028-a94601df1530"
      },
      "execution_count": null,
      "outputs": [
        {
          "output_type": "execute_result",
          "data": {
            "text/plain": [
              "list"
            ]
          },
          "metadata": {},
          "execution_count": 10
        }
      ]
    },
    {
      "cell_type": "code",
      "source": [
        "# join() 함수로 문자열 연결하기\n",
        "\n",
        "temp3 = ['python', 'java', 'R', 'SAS']\n",
        "','.join(temp3)"
      ],
      "metadata": {
        "colab": {
          "base_uri": "https://localhost:8080/",
          "height": 36
        },
        "id": "d6auHxhvqcs5",
        "outputId": "0df92e41-2f15-4af0-9f90-d9b94275dd5b"
      },
      "execution_count": null,
      "outputs": [
        {
          "output_type": "execute_result",
          "data": {
            "text/plain": [
              "'python,java,R,SAS'"
            ],
            "application/vnd.google.colaboratory.intrinsic+json": {
              "type": "string"
            }
          },
          "metadata": {},
          "execution_count": 11
        }
      ]
    },
    {
      "cell_type": "code",
      "source": [
        "# 대/소문자 변환하기(1) - caplitalize() 함수로 첫문자를 대문자, 나머지를 소문자 변환\n",
        "\n",
        "\"helloworld\".capitalize()"
      ],
      "metadata": {
        "colab": {
          "base_uri": "https://localhost:8080/",
          "height": 36
        },
        "id": "0QSTzTHuq5U6",
        "outputId": "a826decb-4b2a-4bf4-d63c-8486c451f2d9"
      },
      "execution_count": null,
      "outputs": [
        {
          "output_type": "execute_result",
          "data": {
            "text/plain": [
              "'Helloworld'"
            ],
            "application/vnd.google.colaboratory.intrinsic+json": {
              "type": "string"
            }
          },
          "metadata": {},
          "execution_count": 12
        }
      ]
    },
    {
      "cell_type": "code",
      "source": [
        "# 대/소문자 변환하기(2) - upper() 함수로 대문자 변환\n",
        "\n",
        "\"helloworld\".upper()"
      ],
      "metadata": {
        "colab": {
          "base_uri": "https://localhost:8080/",
          "height": 36
        },
        "id": "jKHgQ8FrrD_g",
        "outputId": "7c294e21-3454-4652-967b-742ff04e51f6"
      },
      "execution_count": null,
      "outputs": [
        {
          "output_type": "execute_result",
          "data": {
            "text/plain": [
              "'HELLOWORLD'"
            ],
            "application/vnd.google.colaboratory.intrinsic+json": {
              "type": "string"
            }
          },
          "metadata": {},
          "execution_count": 13
        }
      ]
    },
    {
      "cell_type": "code",
      "source": [
        "# 대/소문자 변환하기(3) - lower() 함수로 소문자 변환\n",
        "\n",
        "'HELLOWORLD'.lower()"
      ],
      "metadata": {
        "colab": {
          "base_uri": "https://localhost:8080/",
          "height": 36
        },
        "id": "sAywqP7wrVaE",
        "outputId": "c407af67-9cba-43e2-f817-b4f3b51da60d"
      },
      "execution_count": null,
      "outputs": [
        {
          "output_type": "execute_result",
          "data": {
            "text/plain": [
              "'helloworld'"
            ],
            "application/vnd.google.colaboratory.intrinsic+json": {
              "type": "string"
            }
          },
          "metadata": {},
          "execution_count": 14
        }
      ]
    },
    {
      "cell_type": "code",
      "source": [
        "# 특정 문자의 위치 찾기 - find() 함수\n",
        "\n",
        "print(\"helloworld\".find('w'))\n",
        "\n",
        "print(\"helloworld\".find('o'))   # 첫번째로 나오는 o의 인덱스만 출력\n",
        "\n",
        "print(\"helloworld\".find('z'))   # 존재하지 않는 요소는 -1 출력 "
      ],
      "metadata": {
        "colab": {
          "base_uri": "https://localhost:8080/"
        },
        "id": "VGztLs0ercn-",
        "outputId": "045ec671-684a-43d6-cc74-0173baef661b"
      },
      "execution_count": null,
      "outputs": [
        {
          "output_type": "stream",
          "name": "stdout",
          "text": [
            "5\n",
            "4\n",
            "-1\n"
          ]
        }
      ]
    },
    {
      "cell_type": "code",
      "source": [
        "# 문자열 내용 확인하기(1) - 내용이 숫자로 이루어졌는지 확인하기\n",
        "\n",
        "print(\"1234567890\".isnumeric())   # 큰따옴표 안에 넣었는데도 숫자로 인식하는 이유가 궁금\n",
        "print(\"1234567890\".isalpha())"
      ],
      "metadata": {
        "colab": {
          "base_uri": "https://localhost:8080/"
        },
        "id": "GQ9pOYMirrMW",
        "outputId": "cc225986-d5ad-4ab2-f25b-7dfa07e726d8"
      },
      "execution_count": null,
      "outputs": [
        {
          "output_type": "stream",
          "name": "stdout",
          "text": [
            "True\n",
            "False\n"
          ]
        }
      ]
    },
    {
      "cell_type": "code",
      "source": [
        "# 문자열 내용 확인하기(2) - 내용이 알파벳으로 이루어졌는지 확인하기\n",
        "\n",
        "print(\"helloworld\".isalpha())\n",
        "print(\"helloworld\".isnumeric())"
      ],
      "metadata": {
        "colab": {
          "base_uri": "https://localhost:8080/"
        },
        "id": "px6E912aZBSF",
        "outputId": "79c80acc-f661-4c29-ded2-8373d6f19f9b"
      },
      "execution_count": null,
      "outputs": [
        {
          "output_type": "stream",
          "name": "stdout",
          "text": [
            "True\n",
            "False\n"
          ]
        }
      ]
    },
    {
      "cell_type": "code",
      "source": [
        "# replace() 함수를 사용하여 부분 문자열 대체하기\n",
        "\n",
        "\"helloworld\".replace(\"hello\", 'nice')"
      ],
      "metadata": {
        "colab": {
          "base_uri": "https://localhost:8080/",
          "height": 36
        },
        "id": "M9Biir8UZUkN",
        "outputId": "0ded8e15-9a60-47cc-f0da-528b898c687c"
      },
      "execution_count": null,
      "outputs": [
        {
          "output_type": "execute_result",
          "data": {
            "text/plain": [
              "'niceworld'"
            ],
            "application/vnd.google.colaboratory.intrinsic+json": {
              "type": "string"
            }
          },
          "metadata": {},
          "execution_count": 10
        }
      ]
    },
    {
      "cell_type": "code",
      "source": [
        "# 문자열을 다루는 함수들의 목록 출력하기\n",
        "\n",
        "dir(str)"
      ],
      "metadata": {
        "colab": {
          "base_uri": "https://localhost:8080/"
        },
        "id": "xejerJ8YZtTo",
        "outputId": "11efba57-33be-4c6a-8612-8f804a6b9481"
      },
      "execution_count": null,
      "outputs": [
        {
          "output_type": "execute_result",
          "data": {
            "text/plain": [
              "['__add__',\n",
              " '__class__',\n",
              " '__contains__',\n",
              " '__delattr__',\n",
              " '__dir__',\n",
              " '__doc__',\n",
              " '__eq__',\n",
              " '__format__',\n",
              " '__ge__',\n",
              " '__getattribute__',\n",
              " '__getitem__',\n",
              " '__getnewargs__',\n",
              " '__gt__',\n",
              " '__hash__',\n",
              " '__init__',\n",
              " '__init_subclass__',\n",
              " '__iter__',\n",
              " '__le__',\n",
              " '__len__',\n",
              " '__lt__',\n",
              " '__mod__',\n",
              " '__mul__',\n",
              " '__ne__',\n",
              " '__new__',\n",
              " '__reduce__',\n",
              " '__reduce_ex__',\n",
              " '__repr__',\n",
              " '__rmod__',\n",
              " '__rmul__',\n",
              " '__setattr__',\n",
              " '__sizeof__',\n",
              " '__str__',\n",
              " '__subclasshook__',\n",
              " 'capitalize',\n",
              " 'casefold',\n",
              " 'center',\n",
              " 'count',\n",
              " 'encode',\n",
              " 'endswith',\n",
              " 'expandtabs',\n",
              " 'find',\n",
              " 'format',\n",
              " 'format_map',\n",
              " 'index',\n",
              " 'isalnum',\n",
              " 'isalpha',\n",
              " 'isascii',\n",
              " 'isdecimal',\n",
              " 'isdigit',\n",
              " 'isidentifier',\n",
              " 'islower',\n",
              " 'isnumeric',\n",
              " 'isprintable',\n",
              " 'isspace',\n",
              " 'istitle',\n",
              " 'isupper',\n",
              " 'join',\n",
              " 'ljust',\n",
              " 'lower',\n",
              " 'lstrip',\n",
              " 'maketrans',\n",
              " 'partition',\n",
              " 'replace',\n",
              " 'rfind',\n",
              " 'rindex',\n",
              " 'rjust',\n",
              " 'rpartition',\n",
              " 'rsplit',\n",
              " 'rstrip',\n",
              " 'split',\n",
              " 'splitlines',\n",
              " 'startswith',\n",
              " 'strip',\n",
              " 'swapcase',\n",
              " 'title',\n",
              " 'translate',\n",
              " 'upper',\n",
              " 'zfill']"
            ]
          },
          "metadata": {},
          "execution_count": 11
        }
      ]
    },
    {
      "cell_type": "markdown",
      "source": [
        ""
      ],
      "metadata": {
        "id": "8_4qBnlEfe5e"
      }
    },
    {
      "cell_type": "markdown",
      "source": [
        ""
      ],
      "metadata": {
        "id": "oyCeGNSmffA_"
      }
    },
    {
      "cell_type": "markdown",
      "source": [
        "### **3.3 논리형 bool type**"
      ],
      "metadata": {
        "id": "LIA6rHT7ffIr"
      }
    },
    {
      "cell_type": "markdown",
      "source": [
        "파이썬 논리형 : True or False\n",
        "\n",
        "- true or TRUE 논리값으로 사용할 수 없음\n",
        "\n"
      ],
      "metadata": {
        "id": "L67pGvvufrmN"
      }
    },
    {
      "cell_type": "code",
      "source": [
        "# 파이썬 논리형 True(1)\n",
        "\n",
        "a = True\n",
        "print(type(a))"
      ],
      "metadata": {
        "colab": {
          "base_uri": "https://localhost:8080/"
        },
        "id": "DWEK4vtWfUzH",
        "outputId": "5a17aec4-facf-4aa5-b4dc-6c8007212cb8"
      },
      "execution_count": null,
      "outputs": [
        {
          "output_type": "stream",
          "name": "stdout",
          "text": [
            "<class 'bool'>\n"
          ]
        }
      ]
    },
    {
      "cell_type": "code",
      "source": [
        "# 파이썬 논리형 True(2) - true / TRUE 오류 발생 확인하기\n",
        "\n",
        "a = true"
      ],
      "metadata": {
        "colab": {
          "base_uri": "https://localhost:8080/",
          "height": 205
        },
        "id": "t1qpBFYuk2m8",
        "outputId": "857f8dff-799a-4733-a874-c6291b2134b5"
      },
      "execution_count": null,
      "outputs": [
        {
          "output_type": "error",
          "ename": "NameError",
          "evalue": "ignored",
          "traceback": [
            "\u001b[0;31m---------------------------------------------------------------------------\u001b[0m",
            "\u001b[0;31mNameError\u001b[0m                                 Traceback (most recent call last)",
            "\u001b[0;32m<ipython-input-13-bb5a482a0f0c>\u001b[0m in \u001b[0;36m<module>\u001b[0;34m()\u001b[0m\n\u001b[1;32m      1\u001b[0m \u001b[0;31m# 파이썬 논리형 True(2) - true / TRUE 오류 발생 확인하기\u001b[0m\u001b[0;34m\u001b[0m\u001b[0;34m\u001b[0m\u001b[0;34m\u001b[0m\u001b[0m\n\u001b[1;32m      2\u001b[0m \u001b[0;34m\u001b[0m\u001b[0m\n\u001b[0;32m----> 3\u001b[0;31m \u001b[0ma\u001b[0m \u001b[0;34m=\u001b[0m \u001b[0mtrue\u001b[0m\u001b[0;34m\u001b[0m\u001b[0;34m\u001b[0m\u001b[0m\n\u001b[0m",
            "\u001b[0;31mNameError\u001b[0m: name 'true' is not defined"
          ]
        }
      ]
    },
    {
      "cell_type": "markdown",
      "source": [
        ""
      ],
      "metadata": {
        "id": "lUrj2ZfYlx0R"
      }
    },
    {
      "cell_type": "markdown",
      "source": [
        "**1) False인 경우**"
      ],
      "metadata": {
        "id": "WuSmAhBjlx6Y"
      }
    },
    {
      "cell_type": "markdown",
      "source": [
        "- 정수형 0, 실수 0.0, 복소수 0+0j 인 경우\n",
        "- 문자열이 널스트링('' 또는 \"\")인 경우\n",
        "- None\n",
        "- False\n",
        "- 빈 튜플 또는 리스트, 딕셔너리 ex (), [], {}\n",
        "\n",
        "- 숫자가 0이 아니거나 문자열이 널스트링이 아니면 True"
      ],
      "metadata": {
        "id": "SDSFLptQl0vL"
      }
    },
    {
      "cell_type": "code",
      "source": [
        "# False인 경우(1) - None\n",
        "\n",
        "if None:\n",
        "  print(True)\n",
        "else:\n",
        "  print(False)"
      ],
      "metadata": {
        "colab": {
          "base_uri": "https://localhost:8080/"
        },
        "id": "01ju8mBOlhCn",
        "outputId": "5f90d4ee-c7fd-4170-8644-f457f7fd92ea"
      },
      "execution_count": null,
      "outputs": [
        {
          "output_type": "stream",
          "name": "stdout",
          "text": [
            "False\n"
          ]
        }
      ]
    },
    {
      "cell_type": "code",
      "source": [
        "# False인 경우(2) - 0으로 판별되는 것\n",
        "\n",
        "if 0:\n",
        "  print(True)\n",
        "else:\n",
        "  print(False)\n",
        "\n",
        "\n",
        "if 0.0:\n",
        "  print(True)\n",
        "else:\n",
        "  print(False)\n",
        "\n",
        "if 0+0j:\n",
        "  print(True)\n",
        "else:\n",
        "  print(False)"
      ],
      "metadata": {
        "colab": {
          "base_uri": "https://localhost:8080/"
        },
        "id": "ENfCHJPxs95y",
        "outputId": "f4f69892-3fdf-4868-a50d-0336e507462c"
      },
      "execution_count": null,
      "outputs": [
        {
          "output_type": "stream",
          "name": "stdout",
          "text": [
            "False\n",
            "False\n",
            "False\n"
          ]
        }
      ]
    },
    {
      "cell_type": "code",
      "source": [
        "# False인 경우(3) - 널스트링\n",
        "\n",
        "if '':\n",
        "  print(True)\n",
        "else:\n",
        "  print(False)"
      ],
      "metadata": {
        "colab": {
          "base_uri": "https://localhost:8080/"
        },
        "id": "Dodstd54tFn6",
        "outputId": "42d28f44-d8d2-4ecd-b135-972c91a0a43e"
      },
      "execution_count": null,
      "outputs": [
        {
          "output_type": "stream",
          "name": "stdout",
          "text": [
            "False\n"
          ]
        }
      ]
    },
    {
      "cell_type": "markdown",
      "source": [
        ""
      ],
      "metadata": {
        "id": "nyB5Hcj_vDej"
      }
    },
    {
      "cell_type": "markdown",
      "source": [
        "**2) True인 경우**"
      ],
      "metadata": {
        "id": "q9n2KpWGvDkD"
      }
    },
    {
      "cell_type": "markdown",
      "source": [
        "- False인 경우를 제외한 모든 경우"
      ],
      "metadata": {
        "id": "lAc0ruPUvLQh"
      }
    },
    {
      "cell_type": "code",
      "source": [
        "# True인 경우\n",
        "\n",
        "b = 3\n",
        "if b:\n",
        "  print(True)"
      ],
      "metadata": {
        "colab": {
          "base_uri": "https://localhost:8080/"
        },
        "id": "cfgP0ulJtvPg",
        "outputId": "ebd9cec5-d080-46c3-c90a-1f44542528e3"
      },
      "execution_count": null,
      "outputs": [
        {
          "output_type": "stream",
          "name": "stdout",
          "text": [
            "True\n"
          ]
        }
      ]
    },
    {
      "cell_type": "code",
      "source": [
        "# True인 경우(2) - 널 문자('\\0')와 공백 문자(' ')\n",
        "\n",
        "if '\\0':\n",
        "  print(True)\n",
        "else:\n",
        "  print(False)\n",
        "\n",
        "if ' ':\n",
        "  print(True)\n",
        "else:\n",
        "  print(False)"
      ],
      "metadata": {
        "colab": {
          "base_uri": "https://localhost:8080/"
        },
        "id": "nsNwOLlczAQt",
        "outputId": "12d859d8-6f6a-4066-c4d7-fa7db6afd3c6"
      },
      "execution_count": null,
      "outputs": [
        {
          "output_type": "stream",
          "name": "stdout",
          "text": [
            "True\n",
            "True\n"
          ]
        }
      ]
    },
    {
      "cell_type": "code",
      "source": [
        "# bool() 함수를 이용해 True/False 알아보기\n",
        "\n",
        "bool(0), bool(10)   # bool() 함수는 1개 자료를 논리형으로 변환 -> 여러개를 변환하는 함수도 있을까?"
      ],
      "metadata": {
        "colab": {
          "base_uri": "https://localhost:8080/"
        },
        "id": "kZGjMSrzzPC6",
        "outputId": "df1e2b5b-67ee-4a14-96d0-6f3401092196"
      },
      "execution_count": null,
      "outputs": [
        {
          "output_type": "execute_result",
          "data": {
            "text/plain": [
              "(False, True)"
            ]
          },
          "metadata": {},
          "execution_count": 23
        }
      ]
    },
    {
      "cell_type": "markdown",
      "source": [
        ""
      ],
      "metadata": {
        "id": "GhUu-tJ1ztbh"
      }
    },
    {
      "cell_type": "markdown",
      "source": [
        ""
      ],
      "metadata": {
        "id": "qRcgxSMiztiA"
      }
    },
    {
      "cell_type": "markdown",
      "source": [
        "### **3.4 자료형 확인 및 변환**"
      ],
      "metadata": {
        "id": "NUdUlE9bztof"
      }
    },
    {
      "cell_type": "markdown",
      "source": [
        "- type() : 자료형 확인\n",
        "- int() : 정수형으로 변환\n",
        "- float() : 실수형으로 변환\n",
        "- str() : 문자형으로 변환\n",
        "- bool() : 논리형으로 변환"
      ],
      "metadata": {
        "id": "iLg6dUJy28PN"
      }
    },
    {
      "cell_type": "markdown",
      "source": [
        "**1) type()**"
      ],
      "metadata": {
        "id": "qMnn0FGP5m07"
      }
    },
    {
      "cell_type": "markdown",
      "source": [
        "- type() 함수는 1개 자료의 자료형을 확인한다"
      ],
      "metadata": {
        "id": "UqvoRp9T5qTY"
      }
    },
    {
      "cell_type": "code",
      "source": [
        "# type() 함수로 자료형 확인하기\n",
        "\n",
        "type(120), type(2147483648), type(3.141592), type(1.23456e3), type('hello'), type(\"HelloWorld\"), type(True), type(False)"
      ],
      "metadata": {
        "colab": {
          "base_uri": "https://localhost:8080/"
        },
        "id": "_d-davJ221fq",
        "outputId": "93d6c335-d9b2-4739-cffd-e6d728fc151c"
      },
      "execution_count": null,
      "outputs": [
        {
          "output_type": "execute_result",
          "data": {
            "text/plain": [
              "(int, int, float, float, str, str, bool, bool)"
            ]
          },
          "metadata": {},
          "execution_count": 27
        }
      ]
    },
    {
      "cell_type": "markdown",
      "source": [
        ""
      ],
      "metadata": {
        "id": "p_R5w2o_6M8-"
      }
    },
    {
      "cell_type": "markdown",
      "source": [
        "**2) int()**"
      ],
      "metadata": {
        "id": "yQBJ2URm6NA8"
      }
    },
    {
      "cell_type": "markdown",
      "source": [
        "- int() 함수는 1개 자료를 정수형으로 변환한다\n",
        "- 실수형, 논리형 자료를 정수형으로 변환\n",
        "    - 실수형 -> 정수형 변환시 : 소수점 이하 값은 반올림되지 않고 사라진다\n",
        "    - 논리형 -> 정수형 변환시 : True = 1, False = 0으로 변환된다\n",
        "\n",
        "\n",
        "- 정수 형태의 문자열인 경우 정수형으로 변환 가능\n",
        "- 알파벳을 포함하거나 정수 이외의 문자를 포함하는 문자는 정수로 변환할 수 없다\n",
        "\n"
      ],
      "metadata": {
        "id": "jo-XJ5UG6PoO"
      }
    },
    {
      "cell_type": "code",
      "source": [
        "# int() 함수로 정수형 변환하기(1) - 실수형을 정수형으로 변환하기\n",
        "\n",
        "int(3.14), int(3.6)   # 반올림 되지 않는다"
      ],
      "metadata": {
        "id": "xoPcsThn5_JL",
        "colab": {
          "base_uri": "https://localhost:8080/"
        },
        "outputId": "c93a6f4f-0439-4be9-b41b-419d3b016fb5"
      },
      "execution_count": 38,
      "outputs": [
        {
          "output_type": "execute_result",
          "data": {
            "text/plain": [
              "(3, 3)"
            ]
          },
          "metadata": {},
          "execution_count": 38
        }
      ]
    },
    {
      "cell_type": "code",
      "source": [
        "# int() 함수로 정수형 변환하기(2) - 논리형을 정수형으로 변환하기\n",
        "\n",
        "int(True), int(False)"
      ],
      "metadata": {
        "colab": {
          "base_uri": "https://localhost:8080/"
        },
        "id": "BcyYWBfqEEqC",
        "outputId": "67f6d36f-d115-4857-aa06-ea267e5516ec"
      },
      "execution_count": 40,
      "outputs": [
        {
          "output_type": "execute_result",
          "data": {
            "text/plain": [
              "(1, 0)"
            ]
          },
          "metadata": {},
          "execution_count": 40
        }
      ]
    },
    {
      "cell_type": "code",
      "source": [
        "# int() 함수로 정수형 변환하기(3) - 정수 문자열을 정수형으로 변환하기\n",
        "\n",
        "int('12345')"
      ],
      "metadata": {
        "colab": {
          "base_uri": "https://localhost:8080/"
        },
        "id": "9NF2-vg4EQ9D",
        "outputId": "7ae0063f-6fd9-4027-ae2e-0d4520e66b75"
      },
      "execution_count": 41,
      "outputs": [
        {
          "output_type": "execute_result",
          "data": {
            "text/plain": [
              "12345"
            ]
          },
          "metadata": {},
          "execution_count": 41
        }
      ]
    },
    {
      "cell_type": "code",
      "source": [
        "# int() 함수로 정수형 변환하기(4) - 정수 문자열이 아닌 문자열 정수형 변환시 오류 확인하기\n",
        "\n",
        "int('123.45')"
      ],
      "metadata": {
        "colab": {
          "base_uri": "https://localhost:8080/",
          "height": 205
        },
        "id": "5BcVZaSdEZUR",
        "outputId": "79dd2594-e723-436e-94c4-4b68730755a0"
      },
      "execution_count": 42,
      "outputs": [
        {
          "output_type": "error",
          "ename": "ValueError",
          "evalue": "ignored",
          "traceback": [
            "\u001b[0;31m---------------------------------------------------------------------------\u001b[0m",
            "\u001b[0;31mValueError\u001b[0m                                Traceback (most recent call last)",
            "\u001b[0;32m<ipython-input-42-63f74944705c>\u001b[0m in \u001b[0;36m<module>\u001b[0;34m()\u001b[0m\n\u001b[1;32m      1\u001b[0m \u001b[0;31m# int() 함수로 정수형 변환하기(4) - 정수 문자열이 아닌 문자열 정수형 변환시 오류 확인하기\u001b[0m\u001b[0;34m\u001b[0m\u001b[0;34m\u001b[0m\u001b[0;34m\u001b[0m\u001b[0m\n\u001b[1;32m      2\u001b[0m \u001b[0;34m\u001b[0m\u001b[0m\n\u001b[0;32m----> 3\u001b[0;31m \u001b[0mint\u001b[0m\u001b[0;34m(\u001b[0m\u001b[0;34m'123.45'\u001b[0m\u001b[0;34m)\u001b[0m\u001b[0;34m\u001b[0m\u001b[0;34m\u001b[0m\u001b[0m\n\u001b[0m",
            "\u001b[0;31mValueError\u001b[0m: invalid literal for int() with base 10: '123.45'"
          ]
        }
      ]
    },
    {
      "cell_type": "markdown",
      "source": [
        ""
      ],
      "metadata": {
        "id": "BFWYRvKBErd9"
      }
    },
    {
      "cell_type": "markdown",
      "source": [
        "**3) float**"
      ],
      "metadata": {
        "id": "TD_Wq95AEr5_"
      }
    },
    {
      "cell_type": "markdown",
      "source": [
        "- float() 함수는 1개 자료를 실수형으로 변환한다\n",
        "- 정수형, 논리형 자료 실수형 변환 가능\n",
        "    - 지수 표현식을 사용한 값은 실수형이므로 숫자 자료형 변환시 float() 사용"
      ],
      "metadata": {
        "id": "Ckz0nAHaEvX0"
      }
    },
    {
      "cell_type": "code",
      "source": [
        "# float() 함수로 실수형 변환하기(1) - 정수형을 실수형으로 변환하기\n",
        "\n",
        "float(100)"
      ],
      "metadata": {
        "colab": {
          "base_uri": "https://localhost:8080/"
        },
        "id": "Dyw5HrdjEg4c",
        "outputId": "17ac7a08-cf56-43ea-cc78-dc24ecd8baef"
      },
      "execution_count": 43,
      "outputs": [
        {
          "output_type": "execute_result",
          "data": {
            "text/plain": [
              "100.0"
            ]
          },
          "metadata": {},
          "execution_count": 43
        }
      ]
    },
    {
      "cell_type": "code",
      "source": [
        "# float() 함수로 실수형 변환하기(2) - 논리형을 실수형으로 변환하기\n",
        "\n",
        "float(True), float(False)"
      ],
      "metadata": {
        "colab": {
          "base_uri": "https://localhost:8080/"
        },
        "id": "DLd6O4ugFMiS",
        "outputId": "7fa04ad0-c05d-4d4e-ba02-0a7d09ba1481"
      },
      "execution_count": 44,
      "outputs": [
        {
          "output_type": "execute_result",
          "data": {
            "text/plain": [
              "(1.0, 0.0)"
            ]
          },
          "metadata": {},
          "execution_count": 44
        }
      ]
    },
    {
      "cell_type": "code",
      "source": [
        "# float() 함수로 실수형 변환하기(3) - 정수 문자열 또는 실수 문자열을 실수형으로 변환하기\n",
        "\n",
        "float('314'), float('3.141592')"
      ],
      "metadata": {
        "colab": {
          "base_uri": "https://localhost:8080/"
        },
        "id": "eVwUtsBiFTTq",
        "outputId": "e898306c-4e8d-4e55-89ed-7b83ee29bfbc"
      },
      "execution_count": 2,
      "outputs": [
        {
          "output_type": "execute_result",
          "data": {
            "text/plain": [
              "(314.0, 3.141592)"
            ]
          },
          "metadata": {},
          "execution_count": 2
        }
      ]
    },
    {
      "cell_type": "code",
      "source": [
        "# float() 함수로 실수형 변환하기(4) - 문자열을 실수형으로 변환시 오류 발생 확인하기\n",
        "\n",
        "float('True')"
      ],
      "metadata": {
        "colab": {
          "base_uri": "https://localhost:8080/",
          "height": 205
        },
        "id": "gqIi8SvO9lO-",
        "outputId": "5f538ee8-4f6c-40dd-f92e-c6674f876317"
      },
      "execution_count": 3,
      "outputs": [
        {
          "output_type": "error",
          "ename": "ValueError",
          "evalue": "ignored",
          "traceback": [
            "\u001b[0;31m---------------------------------------------------------------------------\u001b[0m",
            "\u001b[0;31mValueError\u001b[0m                                Traceback (most recent call last)",
            "\u001b[0;32m<ipython-input-3-cd8285a8a889>\u001b[0m in \u001b[0;36m<module>\u001b[0;34m()\u001b[0m\n\u001b[1;32m      1\u001b[0m \u001b[0;31m# float() 함수로 실수형 변환하기(4) - 문자열을 실수형으로 변환시 오류 발생 확인하기\u001b[0m\u001b[0;34m\u001b[0m\u001b[0;34m\u001b[0m\u001b[0;34m\u001b[0m\u001b[0m\n\u001b[1;32m      2\u001b[0m \u001b[0;34m\u001b[0m\u001b[0m\n\u001b[0;32m----> 3\u001b[0;31m \u001b[0mfloat\u001b[0m\u001b[0;34m(\u001b[0m\u001b[0;34m'True'\u001b[0m\u001b[0;34m)\u001b[0m\u001b[0;34m\u001b[0m\u001b[0;34m\u001b[0m\u001b[0m\n\u001b[0m",
            "\u001b[0;31mValueError\u001b[0m: could not convert string to float: 'True'"
          ]
        }
      ]
    },
    {
      "cell_type": "markdown",
      "source": [
        ""
      ],
      "metadata": {
        "id": "wJ66Mpsh92iB"
      }
    },
    {
      "cell_type": "markdown",
      "source": [
        "**4) str()**"
      ],
      "metadata": {
        "id": "5yqEmLRb92qV"
      }
    },
    {
      "cell_type": "markdown",
      "source": [
        "- str() 함수는 1개 자료를 문자열로 변환한다\n",
        "- 정수형, 실수형, 논리형 모두 문자열로 변환 가능\n",
        "- 지수표현식으로 된 숫자는 일반표현식으로 바꾸고 문자열로 변환한다"
      ],
      "metadata": {
        "id": "Cyx0am1e95Y2"
      }
    },
    {
      "cell_type": "code",
      "source": [
        "# str() 함수로 문자형 변환하기(1) - 정수형을 문자형으로 변환하기\n",
        "\n",
        "str(100)"
      ],
      "metadata": {
        "colab": {
          "base_uri": "https://localhost:8080/",
          "height": 36
        },
        "id": "vAQ3Pwts90La",
        "outputId": "8b18a697-4bec-4236-d9a7-f82abeb91fcb"
      },
      "execution_count": 4,
      "outputs": [
        {
          "output_type": "execute_result",
          "data": {
            "text/plain": [
              "'100'"
            ],
            "application/vnd.google.colaboratory.intrinsic+json": {
              "type": "string"
            }
          },
          "metadata": {},
          "execution_count": 4
        }
      ]
    },
    {
      "cell_type": "code",
      "source": [
        "# str() 함수로 문자형 변환하기(2) - 실수형을 문자형으로 변환하기\n",
        "\n",
        "str(3.14)"
      ],
      "metadata": {
        "colab": {
          "base_uri": "https://localhost:8080/",
          "height": 36
        },
        "id": "_FI7u3ML-R4t",
        "outputId": "9496a37c-6bca-48bd-d0a8-e0d3f2901378"
      },
      "execution_count": 5,
      "outputs": [
        {
          "output_type": "execute_result",
          "data": {
            "text/plain": [
              "'3.14'"
            ],
            "application/vnd.google.colaboratory.intrinsic+json": {
              "type": "string"
            }
          },
          "metadata": {},
          "execution_count": 5
        }
      ]
    },
    {
      "cell_type": "code",
      "source": [
        "# str() 함수로 문자형 변환하기(3) - 논리형을 문자형으로 변환하기\n",
        "\n",
        "str(True)"
      ],
      "metadata": {
        "colab": {
          "base_uri": "https://localhost:8080/",
          "height": 36
        },
        "id": "Ujf2xIeI-Xdj",
        "outputId": "30e6d31c-0909-43e9-86ed-8e7f60411fd8"
      },
      "execution_count": 6,
      "outputs": [
        {
          "output_type": "execute_result",
          "data": {
            "text/plain": [
              "'True'"
            ],
            "application/vnd.google.colaboratory.intrinsic+json": {
              "type": "string"
            }
          },
          "metadata": {},
          "execution_count": 6
        }
      ]
    },
    {
      "cell_type": "code",
      "source": [
        "# str() 함수로 문자형 변환하기(4) - 지수표현식 숫자를 문자형으로 변환하기\n",
        "\n",
        "str(1.23e4)"
      ],
      "metadata": {
        "colab": {
          "base_uri": "https://localhost:8080/",
          "height": 36
        },
        "id": "FeUxWYue-coq",
        "outputId": "351208d8-32b2-45bd-f098-aacce643c9e1"
      },
      "execution_count": 7,
      "outputs": [
        {
          "output_type": "execute_result",
          "data": {
            "text/plain": [
              "'12300.0'"
            ],
            "application/vnd.google.colaboratory.intrinsic+json": {
              "type": "string"
            }
          },
          "metadata": {},
          "execution_count": 7
        }
      ]
    },
    {
      "cell_type": "markdown",
      "source": [
        ""
      ],
      "metadata": {
        "id": "Jf31c58E_0fK"
      }
    },
    {
      "cell_type": "markdown",
      "source": [
        "**5) bool()**"
      ],
      "metadata": {
        "id": "TYmAKqMt_0ly"
      }
    },
    {
      "cell_type": "markdown",
      "source": [
        "- bool() 함수는 1개 자료를 논리형으로 변환한다\n",
        "- 모든 자료를 논리형으로 변환 가능\n",
        "- False : 0, 0.0, 0+0j, '', \"\", None\n",
        "\n",
        "\n",
        "- eval() 함수 : 문자열로 전달한 수식을 평가해 실행, 타입이 정확하지 않을 경우 사용한다"
      ],
      "metadata": {
        "id": "OMdtljBL_4Gz"
      }
    },
    {
      "cell_type": "code",
      "source": [
        "# bool() 함수로 논리형 변환하기(1) - False의 경우\n",
        "\n",
        "bool(0), bool(0.0), bool('')"
      ],
      "metadata": {
        "colab": {
          "base_uri": "https://localhost:8080/"
        },
        "id": "4dRFgIUk-kh9",
        "outputId": "79077213-92cc-435f-e5c7-bb2f8acf1ef8"
      },
      "execution_count": 8,
      "outputs": [
        {
          "output_type": "execute_result",
          "data": {
            "text/plain": [
              "(False, False, False)"
            ]
          },
          "metadata": {},
          "execution_count": 8
        }
      ]
    },
    {
      "cell_type": "code",
      "source": [
        "# 함수로 논리형 변환하기(1) - True의 경우\n",
        "\n",
        "bool(10), bool(3.6), bool('hello')"
      ],
      "metadata": {
        "colab": {
          "base_uri": "https://localhost:8080/"
        },
        "id": "00gSmd0EDwte",
        "outputId": "ce3e33df-6776-4f97-a479-54c513076c8b"
      },
      "execution_count": 9,
      "outputs": [
        {
          "output_type": "execute_result",
          "data": {
            "text/plain": [
              "(True, True, True)"
            ]
          },
          "metadata": {},
          "execution_count": 9
        }
      ]
    },
    {
      "cell_type": "code",
      "source": [
        ""
      ],
      "metadata": {
        "id": "boQE7xI1D3_M"
      },
      "execution_count": null,
      "outputs": []
    }
  ]
}