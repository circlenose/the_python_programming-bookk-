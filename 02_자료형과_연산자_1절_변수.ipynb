{
  "nbformat": 4,
  "nbformat_minor": 0,
  "metadata": {
    "colab": {
      "name": "02. 자료형과 연산자_1절. 변수.ipynb",
      "provenance": [],
      "authorship_tag": "ABX9TyOprjhy9aZhM6KWnUUKDFSE",
      "include_colab_link": true
    },
    "kernelspec": {
      "name": "python3",
      "display_name": "Python 3"
    },
    "language_info": {
      "name": "python"
    }
  },
  "cells": [
    {
      "cell_type": "markdown",
      "metadata": {
        "id": "view-in-github",
        "colab_type": "text"
      },
      "source": [
        "<a href=\"https://colab.research.google.com/github/circlenose/the_python_programming-bookk-/blob/main/02_%EC%9E%90%EB%A3%8C%ED%98%95%EA%B3%BC_%EC%97%B0%EC%82%B0%EC%9E%90_1%EC%A0%88_%EB%B3%80%EC%88%98.ipynb\" target=\"_parent\"><img src=\"https://colab.research.google.com/assets/colab-badge.svg\" alt=\"Open In Colab\"/></a>"
      ]
    },
    {
      "cell_type": "markdown",
      "source": [
        "기억은 변수에게, 복잡한 계산은 연산자에게"
      ],
      "metadata": {
        "id": "7HUaB-nUPzhH"
      }
    },
    {
      "cell_type": "markdown",
      "source": [
        "## 1절. 변수\n",
        "- 변수variable : 프로그램이 실행되는 동안 변할 수 있는 어떤 값을 저장하기 위해 사용"
      ],
      "metadata": {
        "id": "AoOAA2yXQAEJ"
      }
    },
    {
      "cell_type": "code",
      "source": [
        ""
      ],
      "metadata": {
        "id": "S7XxPr3ghOFU"
      },
      "execution_count": null,
      "outputs": []
    },
    {
      "cell_type": "markdown",
      "source": [
        "### 1.1 변수"
      ],
      "metadata": {
        "id": "y9RTEzn5QZjO"
      }
    },
    {
      "cell_type": "markdown",
      "source": [
        "- 자주 변하는 값에 이름을 부여하자\n",
        "\n",
        "- 변수 할당variable assignment : 변수는 코드 내에서 일관성 있게 사용 / 관리하기 위해 이름을 부여해 다른 변수 또는 자료와 구분해서 사용할 수 있도록 한다\n",
        "\n",
        "- ' = ' 기호를 기준으로 왼쪽은 변수명 오른쪽은 변수에 저장할 값 입력"
      ],
      "metadata": {
        "id": "5t2l9ZAPdRQA"
      }
    },
    {
      "cell_type": "code",
      "source": [
        "# 변수를 사용하지 않고 원의 반지름이 5(cm)인 원의 넓이 구하기\n",
        "\n",
        "print(5 * 5 * 3.14)"
      ],
      "metadata": {
        "colab": {
          "base_uri": "https://localhost:8080/"
        },
        "id": "25qF9L0tQZIm",
        "outputId": "bc313fdb-617e-45e0-ea8b-66ca2a395961"
      },
      "execution_count": 2,
      "outputs": [
        {
          "output_type": "stream",
          "name": "stdout",
          "text": [
            "78.5\n"
          ]
        }
      ]
    },
    {
      "cell_type": "code",
      "execution_count": 3,
      "metadata": {
        "colab": {
          "base_uri": "https://localhost:8080/"
        },
        "id": "5LS0p4xhPu3Q",
        "outputId": "747a9185-6de7-4c54-9d14-462fb6030ec4"
      },
      "outputs": [
        {
          "output_type": "stream",
          "name": "stdout",
          "text": [
            "113.04\n"
          ]
        }
      ],
      "source": [
        "# 반지름의 길이가 6(cm)로 바뀌면 ?\n",
        "\n",
        "print(6 * 6 * 3.14)   # 매번 값을 바꿔줘야 한다 "
      ]
    },
    {
      "cell_type": "code",
      "source": [
        "# 변수를 사용(할당)하여 원의 반지름이 5(cm)인 원의 넓이 구하기\n",
        "\n",
        "radius = 5   # 반지름이 5가 되도록 변수 할당\n",
        "\n",
        "circle_area = radius * radius * 3.14   # 원의 넓이를 구하는 공식을 변수 할당\n",
        "\n",
        "print(circle_area)   # 원의 넓이 출력"
      ],
      "metadata": {
        "colab": {
          "base_uri": "https://localhost:8080/"
        },
        "id": "9YZM9QeSRp9H",
        "outputId": "92528e3f-f23b-4490-d96b-f2f484247663"
      },
      "execution_count": 4,
      "outputs": [
        {
          "output_type": "stream",
          "name": "stdout",
          "text": [
            "78.5\n"
          ]
        }
      ]
    },
    {
      "cell_type": "code",
      "source": [
        ""
      ],
      "metadata": {
        "id": "7ITYcnXphDcw"
      },
      "execution_count": null,
      "outputs": []
    },
    {
      "cell_type": "code",
      "source": [
        ""
      ],
      "metadata": {
        "id": "S7XxPr3ghOFU"
      },
      "execution_count": null,
      "outputs": []
    },
    {
      "cell_type": "markdown",
      "source": [
        "###1.2 변수 이름 만드는 규칙"
      ],
      "metadata": {
        "id": "e-7RgaQdSLKP"
      }
    },
    {
      "cell_type": "markdown",
      "source": [
        "- 변수의 이름은 문자, 숫자, 밑줄(_)을 포함\n",
        "- 변수는 숫자로 시작할 수 없음\n",
        "- 변수에 사용하는 문자는 대소문자를 구분\n",
        "- 공백, 문장부호, 특수문자(밑줄 제외) 등은 사용할 수 없음\n",
        "- 파이썬의 예약어(ex. class, def 등)은 사용할 수 없음\n",
        "- 사용 중인 내장 함수나 모듈 이름(ex. id, list, print 등)은 사용 지양\n",
        "- 뱀 표기법snake_case(변수명에 두 단어 이상 연결해 사용시 가독성을 위해 밑줄(_)로 연결하는 표기법) 권장\n",
        "\n",
        "\n",
        "    my_favorite_book = 'The Python'\n",
        "\n",
        "  \n",
        "- 기타 표기법\n",
        "\n",
        "\n",
        "    MyFavoriteBook = 'The Python'\n",
        "    - 파스칼 표기법PascalCase(각 단어의 첫 문자를 대문자로 표기하고 붙여 쓰는 표기법) - 객체지향 프로그래밍(클래스 이름 생성 시)\n",
        "    \n",
        "    myFavoriteBook  = 'The Python'\n",
        "    - 낙타 표기법camelCase(각 단어의 첫 문자를 대문자로 표기하고 붙여 쓰며 맨 처음 문자는 소문자로 쓰는 표기법) - 자바(변수 또는 메서드 이름 생성 시)"
      ],
      "metadata": {
        "id": "U95G0LmadVgy"
      }
    },
    {
      "cell_type": "code",
      "source": [
        ""
      ],
      "metadata": {
        "id": "u_XCk1o9hG2G"
      },
      "execution_count": null,
      "outputs": []
    },
    {
      "cell_type": "code",
      "source": [
        ""
      ],
      "metadata": {
        "id": "Bz6RxzizhOsW"
      },
      "execution_count": null,
      "outputs": []
    },
    {
      "cell_type": "markdown",
      "source": [
        "###1.3 변수에 값 할당"
      ],
      "metadata": {
        "id": "jZTgwMO9U3CO"
      }
    },
    {
      "cell_type": "markdown",
      "source": [
        "- 할당 : 할당연산자를 사용해 변수에 값을 저장하는 것\n",
        "\n",
        "- 가장 많이 사용하는 할당연산자는 '='\n",
        "- 변수는 '='의 오른쪽에 올 수 없다\n",
        "- 파이썬은 변수를 선언하여 값을 저장할 때 변수의 유형을 지정하지 않는다\n",
        "\n",
        "\n",
        "- 할당연산자 종류 ~> 2장 5절로 연결\n",
        "- =, +=, -=, *=, /=, //=, **= 등이 존재"
      ],
      "metadata": {
        "id": "RUDwxdSVegxa"
      }
    },
    {
      "cell_type": "code",
      "source": [
        "# 변수 a에 정수 값 10 할당하고 출력하기\n",
        "a = 10\n",
        "print(a)"
      ],
      "metadata": {
        "colab": {
          "base_uri": "https://localhost:8080/"
        },
        "id": "c9kcSNi_VAil",
        "outputId": "94d8cba8-adf8-4d79-ecaf-47b182be8769"
      },
      "execution_count": 6,
      "outputs": [
        {
          "output_type": "stream",
          "name": "stdout",
          "text": [
            "10\n"
          ]
        }
      ]
    },
    {
      "cell_type": "code",
      "source": [
        "# '=' 오른쪽에 변수를 두었을 때 -> 할당 오류 발생 \"can't assign to literal\"\n",
        "10 = a\n"
      ],
      "metadata": {
        "colab": {
          "base_uri": "https://localhost:8080/",
          "height": 134
        },
        "id": "0TVZjw24VGFW",
        "outputId": "f905c527-b4ed-46cf-b5ba-4334bf45bd8b"
      },
      "execution_count": 7,
      "outputs": [
        {
          "output_type": "error",
          "ename": "SyntaxError",
          "evalue": "ignored",
          "traceback": [
            "\u001b[0;36m  File \u001b[0;32m\"<ipython-input-7-c62b3a559b4d>\"\u001b[0;36m, line \u001b[0;32m2\u001b[0m\n\u001b[0;31m    10 = a\u001b[0m\n\u001b[0m          ^\u001b[0m\n\u001b[0;31mSyntaxError\u001b[0m\u001b[0;31m:\u001b[0m can't assign to literal\n"
          ]
        }
      ]
    },
    {
      "cell_type": "code",
      "source": [
        "# 변수 타입 지정 시 -> 오류 발생 \"invalid syntax\"\n",
        "int a = 10"
      ],
      "metadata": {
        "colab": {
          "base_uri": "https://localhost:8080/",
          "height": 134
        },
        "id": "FebhTSr5Vi2P",
        "outputId": "be76304d-834b-40ff-cc60-9ef5ddb764ec"
      },
      "execution_count": 9,
      "outputs": [
        {
          "output_type": "error",
          "ename": "SyntaxError",
          "evalue": "ignored",
          "traceback": [
            "\u001b[0;36m  File \u001b[0;32m\"<ipython-input-9-afb7a1eb4654>\"\u001b[0;36m, line \u001b[0;32m2\u001b[0m\n\u001b[0;31m    int a = 10\u001b[0m\n\u001b[0m        ^\u001b[0m\n\u001b[0;31mSyntaxError\u001b[0m\u001b[0;31m:\u001b[0m invalid syntax\n"
          ]
        }
      ]
    },
    {
      "cell_type": "code",
      "source": [
        ""
      ],
      "metadata": {
        "id": "7wcbrv7IhH_0"
      },
      "execution_count": null,
      "outputs": []
    },
    {
      "cell_type": "code",
      "source": [
        ""
      ],
      "metadata": {
        "id": "CW2Myo9FhPde"
      },
      "execution_count": null,
      "outputs": []
    },
    {
      "cell_type": "markdown",
      "source": [
        "###1.4 id()"
      ],
      "metadata": {
        "id": "9RQ2AFhAV7ik"
      }
    },
    {
      "cell_type": "markdown",
      "source": [
        "- 변수는 파이썬에서 가장 많이 사용되는 객체(파이썬의 변수는 모두 객체)\n",
        "- id()함수는 객체의 주소(변수의 값이 저장돼있는 컴퓨터 안의 메모리 공간 주소) 값을 알고 싶을 때 사용, 컴퓨터마다 다르게 출력될 수 있다 \n",
        "\n",
        "- 커널 : 파이썬에서 코드를 실행시켜 변수들이 저장되는 공간, 현재 애플리케이션의 실행환경 의미,\n",
        "    - 주피터 노트북에서는 작업하는 파일 하나에 커널이 하나씩 생성\n",
        "    - 커널 재시작 시 작업했던 '모든 내용'이 사라지므로 커널을 직접 재시작 시키거나 프로그램 오류로 커널이 재시작 되면 앞서 실행했던 내용들을 다시 실행시켜야 한다\n",
        "    - 커널을 재시작하지 않고 현재 커널의 '모든 내용'을 삭제하기 위해서는 반복문과 전역객체에 대해 알아야 한다"
      ],
      "metadata": {
        "id": "-GJEt_FCe17J"
      }
    },
    {
      "cell_type": "code",
      "source": [
        "# 변수 x와 y를 선언하고 각각 100과 200 할당 후, print() 함수로 x 출력하기\n",
        "x, y = 100, 200 \n",
        "print(x)"
      ],
      "metadata": {
        "colab": {
          "base_uri": "https://localhost:8080/"
        },
        "id": "LpVht8G7VtHk",
        "outputId": "acc19cc5-04f5-40b2-f20a-f3589ce1f91f"
      },
      "execution_count": 10,
      "outputs": [
        {
          "output_type": "stream",
          "name": "stdout",
          "text": [
            "100\n"
          ]
        }
      ]
    },
    {
      "cell_type": "code",
      "source": [
        "# 변수 x의 객체 주소 값 출력하기\n",
        "print(id(x))  "
      ],
      "metadata": {
        "colab": {
          "base_uri": "https://localhost:8080/"
        },
        "id": "wQ1XFBNDWbAN",
        "outputId": "604ee97c-894a-4636-e149-82b3acf8f23d"
      },
      "execution_count": 11,
      "outputs": [
        {
          "output_type": "stream",
          "name": "stdout",
          "text": [
            "94427658704480\n"
          ]
        }
      ]
    },
    {
      "cell_type": "code",
      "source": [
        ""
      ],
      "metadata": {
        "id": "gQ_vyBCwhKOq"
      },
      "execution_count": null,
      "outputs": []
    },
    {
      "cell_type": "code",
      "source": [
        ""
      ],
      "metadata": {
        "id": "FYxYtisGhKsX"
      },
      "execution_count": null,
      "outputs": []
    },
    {
      "cell_type": "markdown",
      "source": [
        "### 1.5 변수 삭제"
      ],
      "metadata": {
        "id": "FWzlwDK4XsDN"
      }
    },
    {
      "cell_type": "markdown",
      "source": [
        "- del 변수 : 변수 삭제 시 사용, 여러 개 변수를 삭제하려면 콤마(,) 사용하여 변수를 나열\n",
        "- %whos 명령 : 현재 커널에 정의되어 있는 변수들의 이름과 저장되어 있는 값을 확인 가능"
      ],
      "metadata": {
        "id": "bdIu20mWfBIP"
      }
    },
    {
      "cell_type": "code",
      "source": [
        "# del 변수를 사용하여 x 변수를 커널에서 삭제하기\n",
        "del x"
      ],
      "metadata": {
        "id": "VBskcSAWXyp8"
      },
      "execution_count": 12,
      "outputs": []
    },
    {
      "cell_type": "code",
      "source": [
        "# 변수 a, b에 각각 10, 20을 할당한 후 출력하기\n",
        "a, b = 10, 20\n",
        "print(a, b)   # print()함수는 인수를 공백으로 연결하여 출력한다"
      ],
      "metadata": {
        "colab": {
          "base_uri": "https://localhost:8080/"
        },
        "id": "fPCBrqN6X3SD",
        "outputId": "f5564dda-ce13-40a4-9407-c32f011a8ddc"
      },
      "execution_count": 14,
      "outputs": [
        {
          "output_type": "stream",
          "name": "stdout",
          "text": [
            "10 20\n"
          ]
        }
      ]
    },
    {
      "cell_type": "code",
      "source": [
        "# 현재 커널에 저장된 변수명과 값 확인하기\n",
        "%whos"
      ],
      "metadata": {
        "colab": {
          "base_uri": "https://localhost:8080/"
        },
        "id": "xVRiBHtAYEbF",
        "outputId": "81ddbe91-9552-4ed6-8266-2dfd33e33b9b"
      },
      "execution_count": 16,
      "outputs": [
        {
          "output_type": "stream",
          "name": "stdout",
          "text": [
            "Variable      Type     Data/Info\n",
            "--------------------------------\n",
            "a             int      10\n",
            "b             int      20\n",
            "circle_area   float    78.5\n",
            "radius        int      5\n",
            "y             int      200\n"
          ]
        }
      ]
    },
    {
      "cell_type": "code",
      "source": [
        "# 변수 a, b를 커널에서 삭제하기\n",
        "del a, b"
      ],
      "metadata": {
        "id": "BIGIRXsXYefL"
      },
      "execution_count": 17,
      "outputs": []
    },
    {
      "cell_type": "code",
      "source": [
        "# 삭제된 변수 커널에서 확인하기\n",
        "%whos"
      ],
      "metadata": {
        "colab": {
          "base_uri": "https://localhost:8080/"
        },
        "id": "CYMYcikEZFnB",
        "outputId": "e47cc05e-e955-4cc4-c593-12c424ffb9f2"
      },
      "execution_count": 18,
      "outputs": [
        {
          "output_type": "stream",
          "name": "stdout",
          "text": [
            "Variable      Type     Data/Info\n",
            "--------------------------------\n",
            "circle_area   float    78.5\n",
            "radius        int      5\n",
            "y             int      200\n"
          ]
        }
      ]
    },
    {
      "cell_type": "code",
      "source": [
        "# 커널 재시작없이 현재 커널의 모든 변수 삭제하기\n",
        "\n",
        "for name in dir():   # 동일 구문 반복\n",
        "  if not name.startswith('_'):\n",
        "    del globals()[name]   # globals로 현재 커널에 선언되어 있는 전역변수 목록 출력, del로 변수 삭제"
      ],
      "metadata": {
        "id": "Gb2qBfEdZKrp"
      },
      "execution_count": 20,
      "outputs": []
    },
    {
      "cell_type": "code",
      "source": [
        "# 삭제된 변수 커널에서 확인하기\n",
        "%whos"
      ],
      "metadata": {
        "colab": {
          "base_uri": "https://localhost:8080/"
        },
        "id": "jKzUZgR7Z5nB",
        "outputId": "a083dc3a-2d7f-4de5-95a7-8cae41e43f6c"
      },
      "execution_count": 21,
      "outputs": [
        {
          "output_type": "stream",
          "name": "stdout",
          "text": [
            "Variable   Type    Data/Info\n",
            "----------------------------\n",
            "name       str     y\n"
          ]
        }
      ]
    },
    {
      "cell_type": "code",
      "source": [
        ""
      ],
      "metadata": {
        "id": "ZDgoQ7zWhLt7"
      },
      "execution_count": null,
      "outputs": []
    },
    {
      "cell_type": "code",
      "source": [
        ""
      ],
      "metadata": {
        "id": "1UcFj7O5hLyp"
      },
      "execution_count": null,
      "outputs": []
    },
    {
      "cell_type": "markdown",
      "source": [
        "### 1.6 다중 변수 선언"
      ],
      "metadata": {
        "id": "Lf_tTn0gacTJ"
      }
    },
    {
      "cell_type": "markdown",
      "source": [
        "- 다중 변수 선언 : 한 라인에 여러 개 변수 선언 가능\n",
        "- 변수 할당 작업이 순차적으로 발생하지는 않는다 (다중 변수 선언 및 할당 시 할당연산자의 오른쪽 변수는 왼쪽 변수의 값이 바뀐다고 같이 바뀌지 않음)"
      ],
      "metadata": {
        "id": "Szi4u3pIfF1N"
      }
    },
    {
      "cell_type": "code",
      "source": [
        "# 변수 a, b에 각각 10, 20을 다중 선언하기\n",
        "\n",
        "a, b = 10, 20\n",
        "print(a+b)"
      ],
      "metadata": {
        "colab": {
          "base_uri": "https://localhost:8080/"
        },
        "id": "wvVvF5dOai4Q",
        "outputId": "afa7100b-3354-4000-fa4f-f3c74e2ead91"
      },
      "execution_count": 22,
      "outputs": [
        {
          "output_type": "stream",
          "name": "stdout",
          "text": [
            "30\n"
          ]
        }
      ]
    },
    {
      "cell_type": "code",
      "source": [
        "# 단일 변수 선언 시\n",
        "a = 10\n",
        "b = 20\n",
        "a = b   # a = 20\n",
        "b = a+b   # b = 40\n",
        "print(a, b)"
      ],
      "metadata": {
        "colab": {
          "base_uri": "https://localhost:8080/"
        },
        "id": "GK0grapxalVr",
        "outputId": "24ac279b-c894-4418-a942-0bdd6e1bc9d3"
      },
      "execution_count": 23,
      "outputs": [
        {
          "output_type": "stream",
          "name": "stdout",
          "text": [
            "20 40\n"
          ]
        }
      ]
    },
    {
      "cell_type": "code",
      "source": [
        "# 다중 변수 선언 시\n",
        "a = 10\n",
        "b = 20\n",
        "a, b = b, a+b   # a = 20, b = 30\n",
        "print(a, b)"
      ],
      "metadata": {
        "colab": {
          "base_uri": "https://localhost:8080/"
        },
        "id": "YdcFes0PbGdU",
        "outputId": "f25f2e65-4cc8-4c9b-acaa-6e4310aa4391"
      },
      "execution_count": 24,
      "outputs": [
        {
          "output_type": "stream",
          "name": "stdout",
          "text": [
            "20 30\n"
          ]
        }
      ]
    },
    {
      "cell_type": "markdown",
      "source": [
        "### 1.7 도움말 기능"
      ],
      "metadata": {
        "id": "MjZeT94Pbc7S"
      }
    },
    {
      "cell_type": "markdown",
      "source": [
        "- help([x]) : 도움말 기능, x는 도움말을 얻을 함수명, 대괄호[]는 선택사항\n",
        "- help() 함수에 인수를 포함하지 않고 호출하면 도움말 유틸리티가 실행되어 원하는 단어를 입력할 수 있다\n",
        "- 도움말 유틸리티 종료 명령은 quit / q\n",
        "\n",
        "- '# -*- coding: utf-8 -*-' 로 인코딩 지정하기\n",
        "- 인코딩 : 정보의 형태나 형식을 변환하는 처리 방식\n",
        "- 기본적으로 파이썬 소스 파일은 utf-8ㄹ 인코딩 되어 처리"
      ],
      "metadata": {
        "id": "nkr-frS1fIoi"
      }
    },
    {
      "cell_type": "code",
      "source": [
        "# print() 함수에 대한 도움말 얻기\n",
        "help(print)"
      ],
      "metadata": {
        "colab": {
          "base_uri": "https://localhost:8080/"
        },
        "id": "iv-7QKTtbwwa",
        "outputId": "ebe04046-4507-4c6d-96cd-d08f09885037"
      },
      "execution_count": 29,
      "outputs": [
        {
          "output_type": "stream",
          "name": "stdout",
          "text": [
            "Help on built-in function print in module builtins:\n",
            "\n",
            "print(...)\n",
            "    print(value, ..., sep=' ', end='\\n', file=sys.stdout, flush=False)\n",
            "    \n",
            "    Prints the values to a stream, or to sys.stdout by default.\n",
            "    Optional keyword arguments:\n",
            "    file:  a file-like object (stream); defaults to the current sys.stdout.\n",
            "    sep:   string inserted between values, default a space.\n",
            "    end:   string appended after the last value, default a newline.\n",
            "    flush: whether to forcibly flush the stream.\n",
            "\n"
          ]
        }
      ]
    },
    {
      "cell_type": "code",
      "source": [
        "# 도움말 유틸리티 실행하기\n",
        "help()"
      ],
      "metadata": {
        "colab": {
          "base_uri": "https://localhost:8080/"
        },
        "id": "nJn0Mjanb2B-",
        "outputId": "b9d6b1a6-2c94-4cb9-f27d-e64f7272992c"
      },
      "execution_count": 31,
      "outputs": [
        {
          "output_type": "stream",
          "name": "stdout",
          "text": [
            "\n",
            "Welcome to Python 3.7's help utility!\n",
            "\n",
            "If this is your first time using Python, you should definitely check out\n",
            "the tutorial on the Internet at https://docs.python.org/3.7/tutorial/.\n",
            "\n",
            "Enter the name of any module, keyword, or topic to get help on writing\n",
            "Python programs and using Python modules.  To quit this help utility and\n",
            "return to the interpreter, just type \"quit\".\n",
            "\n",
            "To get a list of available modules, keywords, symbols, or topics, type\n",
            "\"modules\", \"keywords\", \"symbols\", or \"topics\".  Each module also comes\n",
            "with a one-line summary of what it does; to list the modules whose name\n",
            "or summary contain a given string such as \"spam\", type \"modules spam\".\n",
            "\n",
            "\n",
            "You are now leaving help and returning to the Python interpreter.\n",
            "If you want to ask for help on a particular object directly from the\n",
            "interpreter, you can type \"help(object)\".  Executing \"help('string')\"\n",
            "has the same effect as typing a particular string at the help> prompt.\n"
          ]
        }
      ]
    }
  ]
}
