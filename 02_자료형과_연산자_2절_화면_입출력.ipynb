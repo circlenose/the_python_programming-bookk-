{
  "nbformat": 4,
  "nbformat_minor": 0,
  "metadata": {
    "colab": {
      "name": "02. 자료형과 연산자_2절. 화면 입출력.ipynb",
      "provenance": [],
      "authorship_tag": "ABX9TyMTuANyGXvkdMTwV6jjVQBa",
      "include_colab_link": true
    },
    "kernelspec": {
      "name": "python3",
      "display_name": "Python 3"
    },
    "language_info": {
      "name": "python"
    }
  },
  "cells": [
    {
      "cell_type": "markdown",
      "metadata": {
        "id": "view-in-github",
        "colab_type": "text"
      },
      "source": [
        "<a href=\"https://colab.research.google.com/github/circlenose/the_python_programming-bookk-/blob/main/02_%EC%9E%90%EB%A3%8C%ED%98%95%EA%B3%BC_%EC%97%B0%EC%82%B0%EC%9E%90_2%EC%A0%88_%ED%99%94%EB%A9%B4_%EC%9E%85%EC%B6%9C%EB%A0%A5.ipynb\" target=\"_parent\"><img src=\"https://colab.research.google.com/assets/colab-badge.svg\" alt=\"Open In Colab\"/></a>"
      ]
    },
    {
      "cell_type": "markdown",
      "source": [
        "## 2절. 화면 입출력"
      ],
      "metadata": {
        "id": "7pjYqoORP6Ne"
      }
    },
    {
      "cell_type": "markdown",
      "source": [
        "### 2.1 사용자 입력"
      ],
      "metadata": {
        "id": "hxOtbKNpP9p_"
      }
    },
    {
      "cell_type": "markdown",
      "source": [
        "- input() 함수 : 프로그램 실행 시 사용자의 입력을 받기 위해 사용\n",
        "- input() 함수를 이용해 입력받은 데이터의 유형은 문자열(str)\n",
        "- int() 함수 : 인수를 정수로 변환\n",
        "- 연산을 위해 input() 함수로 입력받은 문자열 데이터를 int() 함수로 정수 데이터로 변환"
      ],
      "metadata": {
        "id": "zzbusiq8QKgc"
      }
    },
    {
      "cell_type": "code",
      "execution_count": 2,
      "metadata": {
        "colab": {
          "base_uri": "https://localhost:8080/"
        },
        "id": "fGzkPE4aP1Fr",
        "outputId": "8658a413-d719-493f-9ae1-6f406222ee95"
      },
      "outputs": [
        {
          "name": "stdout",
          "output_type": "stream",
          "text": [
            "prompt_message야호\n"
          ]
        }
      ],
      "source": [
        "# 데이터를 입력받기 위한 프롬프트 메세지 지정하기\n",
        "\n",
        "read_message = input('prompt_message')"
      ]
    },
    {
      "cell_type": "code",
      "source": [
        "# 두 수를 입력받아 두 수의 합 출력하기(1)\n",
        "\n",
        "first_number = input('첫 번째 숫자: ')\n",
        "second_number = input('두 번째 숫자: ')\n",
        "\n",
        "print(int(first_number) + int(second_number))"
      ],
      "metadata": {
        "colab": {
          "base_uri": "https://localhost:8080/"
        },
        "id": "9Cf1fq4NQkR_",
        "outputId": "77cde0d5-4243-447c-f8a4-4c6a3af48965"
      },
      "execution_count": 3,
      "outputs": [
        {
          "output_type": "stream",
          "name": "stdout",
          "text": [
            "첫 번째 숫자: 20\n",
            "두 번째 숫자: 30\n",
            "50\n"
          ]
        }
      ]
    },
    {
      "cell_type": "code",
      "source": [
        "# 두 수를 입력받아 두 수의 합 출력하기(2)\n",
        "\n",
        "first_number = int(input('첫 번째 숫자: '))\n",
        "second_number = int(input('두 번째 숫자: '))\n",
        "\n",
        "print(first_number + second_number)"
      ],
      "metadata": {
        "colab": {
          "base_uri": "https://localhost:8080/"
        },
        "id": "NPuTY9vdRA25",
        "outputId": "06478976-d9d6-4ef2-a1f9-1ed283734742"
      },
      "execution_count": 4,
      "outputs": [
        {
          "output_type": "stream",
          "name": "stdout",
          "text": [
            "첫 번째 숫자: 20\n",
            "두 번째 숫자: 30\n",
            "50\n"
          ]
        }
      ]
    },
    {
      "cell_type": "code",
      "source": [
        ""
      ],
      "metadata": {
        "id": "qPHuwgB6Rx8x"
      },
      "execution_count": null,
      "outputs": []
    },
    {
      "cell_type": "code",
      "source": [
        ""
      ],
      "metadata": {
        "id": "HBu85VEwR1J9"
      },
      "execution_count": null,
      "outputs": []
    },
    {
      "cell_type": "markdown",
      "source": [
        "### 2.2 화면으로의 출력 : print()"
      ],
      "metadata": {
        "id": "xn9qGVSLR1aT"
      }
    },
    {
      "cell_type": "markdown",
      "source": [
        "- print() 함수 : 출력하려는 값들을 공백으로 구분하여 출력\n",
        "- print() 함수의 키워드 매개변수\n",
        "    - sep(구분자) : 출력되는 문자열들의 구분자 지정, 기본값은 공백(' ')\n",
        "    - end (라인 끝 문자) : 행의 마지막에 포함될 문자 지정, 기본값은 개행(\\n)\n",
        "    - file(출력 대상)"
      ],
      "metadata": {
        "id": "B277jl9DR61F"
      }
    },
    {
      "cell_type": "code",
      "source": [
        "# sep 속성을 이용해 데이터 연결 문자 지정하기\n",
        "\n",
        "print('Hello', 'World')\n",
        "\n",
        "print('Hello', 'World', sep=',')"
      ],
      "metadata": {
        "colab": {
          "base_uri": "https://localhost:8080/"
        },
        "id": "eMer1pL-R6Mt",
        "outputId": "a164021a-70a3-4757-c0d7-ce9cff6ff1ba"
      },
      "execution_count": 5,
      "outputs": [
        {
          "output_type": "stream",
          "name": "stdout",
          "text": [
            "Hello World\n",
            "Hello,World\n"
          ]
        }
      ]
    },
    {
      "cell_type": "code",
      "source": [
        "# end 속성을 이용해 데이터 출력 후 행의 마지막에 포함될 문자 지정하기\n",
        "\n",
        "print('Hello')\n",
        "print('World')\n",
        "\n",
        "print('Hello', end='\\t').  # \\t(tab) : 다음 8번째 위치에 문자 표시, 탭문자 앞의 문자가 8자를 넘어서면 16번째 위치에 다음 문자 표시\n",
        "print('World')"
      ],
      "metadata": {
        "colab": {
          "base_uri": "https://localhost:8080/"
        },
        "id": "ZtDfLLOoglGi",
        "outputId": "515cfac9-5cb4-4c85-f504-6dd2ba6dc077"
      },
      "execution_count": 7,
      "outputs": [
        {
          "output_type": "stream",
          "name": "stdout",
          "text": [
            "Hello\n",
            "World\n",
            "Hello\tWorld\n"
          ]
        }
      ]
    },
    {
      "cell_type": "code",
      "source": [
        ""
      ],
      "metadata": {
        "id": "QB6Xx98YguqY"
      },
      "execution_count": null,
      "outputs": []
    }
  ]
}